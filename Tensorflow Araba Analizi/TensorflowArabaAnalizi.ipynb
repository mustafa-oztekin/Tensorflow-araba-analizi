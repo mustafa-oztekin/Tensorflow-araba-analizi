{
 "cells": [
  {
   "cell_type": "code",
   "execution_count": 1,
   "id": "dcb994a1",
   "metadata": {},
   "outputs": [],
   "source": [
    "import numpy as np\n",
    "import pandas as pd\n",
    "import matplotlib.pyplot as plt\n",
    "import seaborn as sbn"
   ]
  },
  {
   "cell_type": "code",
   "execution_count": 2,
   "id": "6417f579",
   "metadata": {},
   "outputs": [],
   "source": [
    "dataFrame = pd.read_excel(\"merc.xlsx\")"
   ]
  },
  {
   "cell_type": "code",
   "execution_count": 3,
   "id": "552487a3",
   "metadata": {},
   "outputs": [
    {
     "data": {
      "text/html": [
       "<div>\n",
       "<style scoped>\n",
       "    .dataframe tbody tr th:only-of-type {\n",
       "        vertical-align: middle;\n",
       "    }\n",
       "\n",
       "    .dataframe tbody tr th {\n",
       "        vertical-align: top;\n",
       "    }\n",
       "\n",
       "    .dataframe thead th {\n",
       "        text-align: right;\n",
       "    }\n",
       "</style>\n",
       "<table border=\"1\" class=\"dataframe\">\n",
       "  <thead>\n",
       "    <tr style=\"text-align: right;\">\n",
       "      <th></th>\n",
       "      <th>year</th>\n",
       "      <th>price</th>\n",
       "      <th>transmission</th>\n",
       "      <th>mileage</th>\n",
       "      <th>tax</th>\n",
       "      <th>mpg</th>\n",
       "      <th>engineSize</th>\n",
       "    </tr>\n",
       "  </thead>\n",
       "  <tbody>\n",
       "    <tr>\n",
       "      <th>0</th>\n",
       "      <td>2005</td>\n",
       "      <td>5200</td>\n",
       "      <td>Automatic</td>\n",
       "      <td>63000</td>\n",
       "      <td>325</td>\n",
       "      <td>32.1</td>\n",
       "      <td>1.8</td>\n",
       "    </tr>\n",
       "    <tr>\n",
       "      <th>1</th>\n",
       "      <td>2017</td>\n",
       "      <td>34948</td>\n",
       "      <td>Automatic</td>\n",
       "      <td>27000</td>\n",
       "      <td>20</td>\n",
       "      <td>61.4</td>\n",
       "      <td>2.1</td>\n",
       "    </tr>\n",
       "    <tr>\n",
       "      <th>2</th>\n",
       "      <td>2016</td>\n",
       "      <td>49948</td>\n",
       "      <td>Automatic</td>\n",
       "      <td>6200</td>\n",
       "      <td>555</td>\n",
       "      <td>28.0</td>\n",
       "      <td>5.5</td>\n",
       "    </tr>\n",
       "    <tr>\n",
       "      <th>3</th>\n",
       "      <td>2016</td>\n",
       "      <td>61948</td>\n",
       "      <td>Automatic</td>\n",
       "      <td>16000</td>\n",
       "      <td>325</td>\n",
       "      <td>30.4</td>\n",
       "      <td>4.0</td>\n",
       "    </tr>\n",
       "    <tr>\n",
       "      <th>4</th>\n",
       "      <td>2016</td>\n",
       "      <td>73948</td>\n",
       "      <td>Automatic</td>\n",
       "      <td>4000</td>\n",
       "      <td>325</td>\n",
       "      <td>30.1</td>\n",
       "      <td>4.0</td>\n",
       "    </tr>\n",
       "  </tbody>\n",
       "</table>\n",
       "</div>"
      ],
      "text/plain": [
       "   year  price transmission  mileage  tax   mpg  engineSize\n",
       "0  2005   5200    Automatic    63000  325  32.1         1.8\n",
       "1  2017  34948    Automatic    27000   20  61.4         2.1\n",
       "2  2016  49948    Automatic     6200  555  28.0         5.5\n",
       "3  2016  61948    Automatic    16000  325  30.4         4.0\n",
       "4  2016  73948    Automatic     4000  325  30.1         4.0"
      ]
     },
     "execution_count": 3,
     "metadata": {},
     "output_type": "execute_result"
    }
   ],
   "source": [
    "dataFrame.head()"
   ]
  },
  {
   "cell_type": "code",
   "execution_count": 4,
   "id": "9d473bd7",
   "metadata": {},
   "outputs": [
    {
     "data": {
      "text/html": [
       "<div>\n",
       "<style scoped>\n",
       "    .dataframe tbody tr th:only-of-type {\n",
       "        vertical-align: middle;\n",
       "    }\n",
       "\n",
       "    .dataframe tbody tr th {\n",
       "        vertical-align: top;\n",
       "    }\n",
       "\n",
       "    .dataframe thead th {\n",
       "        text-align: right;\n",
       "    }\n",
       "</style>\n",
       "<table border=\"1\" class=\"dataframe\">\n",
       "  <thead>\n",
       "    <tr style=\"text-align: right;\">\n",
       "      <th></th>\n",
       "      <th>year</th>\n",
       "      <th>price</th>\n",
       "      <th>mileage</th>\n",
       "      <th>tax</th>\n",
       "      <th>mpg</th>\n",
       "      <th>engineSize</th>\n",
       "    </tr>\n",
       "  </thead>\n",
       "  <tbody>\n",
       "    <tr>\n",
       "      <th>count</th>\n",
       "      <td>13119.000000</td>\n",
       "      <td>13119.000000</td>\n",
       "      <td>13119.000000</td>\n",
       "      <td>13119.000000</td>\n",
       "      <td>13119.000000</td>\n",
       "      <td>13119.000000</td>\n",
       "    </tr>\n",
       "    <tr>\n",
       "      <th>mean</th>\n",
       "      <td>2017.296288</td>\n",
       "      <td>24698.596920</td>\n",
       "      <td>21949.559037</td>\n",
       "      <td>129.972178</td>\n",
       "      <td>55.155843</td>\n",
       "      <td>2.071530</td>\n",
       "    </tr>\n",
       "    <tr>\n",
       "      <th>std</th>\n",
       "      <td>2.224709</td>\n",
       "      <td>11842.675542</td>\n",
       "      <td>21176.512267</td>\n",
       "      <td>65.260286</td>\n",
       "      <td>15.220082</td>\n",
       "      <td>0.572426</td>\n",
       "    </tr>\n",
       "    <tr>\n",
       "      <th>min</th>\n",
       "      <td>1970.000000</td>\n",
       "      <td>650.000000</td>\n",
       "      <td>1.000000</td>\n",
       "      <td>0.000000</td>\n",
       "      <td>1.100000</td>\n",
       "      <td>0.000000</td>\n",
       "    </tr>\n",
       "    <tr>\n",
       "      <th>25%</th>\n",
       "      <td>2016.000000</td>\n",
       "      <td>17450.000000</td>\n",
       "      <td>6097.500000</td>\n",
       "      <td>125.000000</td>\n",
       "      <td>45.600000</td>\n",
       "      <td>1.800000</td>\n",
       "    </tr>\n",
       "    <tr>\n",
       "      <th>50%</th>\n",
       "      <td>2018.000000</td>\n",
       "      <td>22480.000000</td>\n",
       "      <td>15189.000000</td>\n",
       "      <td>145.000000</td>\n",
       "      <td>56.500000</td>\n",
       "      <td>2.000000</td>\n",
       "    </tr>\n",
       "    <tr>\n",
       "      <th>75%</th>\n",
       "      <td>2019.000000</td>\n",
       "      <td>28980.000000</td>\n",
       "      <td>31779.500000</td>\n",
       "      <td>145.000000</td>\n",
       "      <td>64.200000</td>\n",
       "      <td>2.100000</td>\n",
       "    </tr>\n",
       "    <tr>\n",
       "      <th>max</th>\n",
       "      <td>2020.000000</td>\n",
       "      <td>159999.000000</td>\n",
       "      <td>259000.000000</td>\n",
       "      <td>580.000000</td>\n",
       "      <td>217.300000</td>\n",
       "      <td>6.200000</td>\n",
       "    </tr>\n",
       "  </tbody>\n",
       "</table>\n",
       "</div>"
      ],
      "text/plain": [
       "               year          price        mileage           tax           mpg  \\\n",
       "count  13119.000000   13119.000000   13119.000000  13119.000000  13119.000000   \n",
       "mean    2017.296288   24698.596920   21949.559037    129.972178     55.155843   \n",
       "std        2.224709   11842.675542   21176.512267     65.260286     15.220082   \n",
       "min     1970.000000     650.000000       1.000000      0.000000      1.100000   \n",
       "25%     2016.000000   17450.000000    6097.500000    125.000000     45.600000   \n",
       "50%     2018.000000   22480.000000   15189.000000    145.000000     56.500000   \n",
       "75%     2019.000000   28980.000000   31779.500000    145.000000     64.200000   \n",
       "max     2020.000000  159999.000000  259000.000000    580.000000    217.300000   \n",
       "\n",
       "         engineSize  \n",
       "count  13119.000000  \n",
       "mean       2.071530  \n",
       "std        0.572426  \n",
       "min        0.000000  \n",
       "25%        1.800000  \n",
       "50%        2.000000  \n",
       "75%        2.100000  \n",
       "max        6.200000  "
      ]
     },
     "execution_count": 4,
     "metadata": {},
     "output_type": "execute_result"
    }
   ],
   "source": [
    "dataFrame.describe()"
   ]
  },
  {
   "cell_type": "code",
   "execution_count": 6,
   "id": "381fcb75",
   "metadata": {},
   "outputs": [
    {
     "data": {
      "text/plain": [
       "year            0\n",
       "price           0\n",
       "transmission    0\n",
       "mileage         0\n",
       "tax             0\n",
       "mpg             0\n",
       "engineSize      0\n",
       "dtype: int64"
      ]
     },
     "execution_count": 6,
     "metadata": {},
     "output_type": "execute_result"
    }
   ],
   "source": [
    "dataFrame.isnull().sum()"
   ]
  },
  {
   "cell_type": "code",
   "execution_count": 9,
   "id": "57962bd3",
   "metadata": {},
   "outputs": [
    {
     "name": "stderr",
     "output_type": "stream",
     "text": [
      "C:\\ProgramData\\Anaconda3\\lib\\site-packages\\seaborn\\distributions.py:2557: FutureWarning: `distplot` is a deprecated function and will be removed in a future version. Please adapt your code to use either `displot` (a figure-level function with similar flexibility) or `histplot` (an axes-level function for histograms).\n",
      "  warnings.warn(msg, FutureWarning)\n"
     ]
    },
    {
     "data": {
      "text/plain": [
       "<AxesSubplot:xlabel='price', ylabel='Density'>"
      ]
     },
     "execution_count": 9,
     "metadata": {},
     "output_type": "execute_result"
    },
    {
     "data": {
      "image/png": "[encoded data removed]",
      "text/plain": [
       "<Figure size 432x288 with 1 Axes>"
      ]
     },
     "metadata": {
      "needs_background": "light"
     },
     "output_type": "display_data"
    }
   ],
   "source": [
    "sbn.distplot(dataFrame[\"price\"])"
   ]
  },
  {
   "cell_type": "code",
   "execution_count": 10,
   "id": "deda0f19",
   "metadata": {},
   "outputs": [
    {
     "data": {
      "text/plain": [
       "<seaborn.axisgrid.FacetGrid at 0x2003371f910>"
      ]
     },
     "execution_count": 10,
     "metadata": {},
     "output_type": "execute_result"
    },
    {
     "data": {
      "image/png": "[encoded data removed]",
      "text/plain": [
       "<Figure size 360x360 with 1 Axes>"
      ]
     },
     "metadata": {
      "needs_background": "light"
     },
     "output_type": "display_data"
    }
   ],
   "source": [
    "sbn.displot(dataFrame[\"price\"])"
   ]
  },
  {
   "cell_type": "code",
   "execution_count": 11,
   "id": "3a004668",
   "metadata": {},
   "outputs": [
    {
     "data": {
      "text/plain": [
       "<AxesSubplot:xlabel='price', ylabel='Count'>"
      ]
     },
     "execution_count": 11,
     "metadata": {},
     "output_type": "execute_result"
    },
    {
     "data": {
      "image/png": "[encoded data removed]",
      "text/plain": [
       "<Figure size 432x288 with 1 Axes>"
      ]
     },
     "metadata": {
      "needs_background": "light"
     },
     "output_type": "display_data"
    }
   ],
   "source": [
    "sbn.histplot(dataFrame[\"price\"]) "
   ]
  },
  {
   "cell_type": "code",
   "execution_count": 16,
   "id": "6489057f",
   "metadata": {},
   "outputs": [
    {
     "name": "stderr",
     "output_type": "stream",
     "text": [
      "C:\\ProgramData\\Anaconda3\\lib\\site-packages\\seaborn\\_decorators.py:36: FutureWarning: Pass the following variable as a keyword arg: x. From version 0.12, the only valid positional argument will be `data`, and passing other arguments without an explicit keyword will result in an error or misinterpretation.\n",
      "  warnings.warn(\n"
     ]
    },
    {
     "data": {
      "text/plain": [
       "<AxesSubplot:xlabel='year', ylabel='count'>"
      ]
     },
     "execution_count": 16,
     "metadata": {},
     "output_type": "execute_result"
    },
    {
     "data": {
      "image/png": "[encoded data removed]",
      "text/plain": [
       "<Figure size 432x288 with 1 Axes>"
      ]
     },
     "metadata": {
      "needs_background": "light"
     },
     "output_type": "display_data"
    }
   ],
   "source": [
    "sbn.countplot(dataFrame[\"year\"])"
   ]
  },
  {
   "cell_type": "code",
   "execution_count": 23,
   "id": "dd42819b",
   "metadata": {},
   "outputs": [
    {
     "data": {
      "text/html": [
       "<div>\n",
       "<style scoped>\n",
       "    .dataframe tbody tr th:only-of-type {\n",
       "        vertical-align: middle;\n",
       "    }\n",
       "\n",
       "    .dataframe tbody tr th {\n",
       "        vertical-align: top;\n",
       "    }\n",
       "\n",
       "    .dataframe thead th {\n",
       "        text-align: right;\n",
       "    }\n",
       "</style>\n",
       "<table border=\"1\" class=\"dataframe\">\n",
       "  <thead>\n",
       "    <tr style=\"text-align: right;\">\n",
       "      <th></th>\n",
       "      <th>year</th>\n",
       "      <th>price</th>\n",
       "      <th>mileage</th>\n",
       "      <th>tax</th>\n",
       "      <th>mpg</th>\n",
       "      <th>engineSize</th>\n",
       "    </tr>\n",
       "  </thead>\n",
       "  <tbody>\n",
       "    <tr>\n",
       "      <th>year</th>\n",
       "      <td>1.000000</td>\n",
       "      <td>0.520712</td>\n",
       "      <td>-0.738027</td>\n",
       "      <td>0.012480</td>\n",
       "      <td>-0.094626</td>\n",
       "      <td>-0.142147</td>\n",
       "    </tr>\n",
       "    <tr>\n",
       "      <th>price</th>\n",
       "      <td>0.520712</td>\n",
       "      <td>1.000000</td>\n",
       "      <td>-0.537214</td>\n",
       "      <td>0.268717</td>\n",
       "      <td>-0.438445</td>\n",
       "      <td>0.516126</td>\n",
       "    </tr>\n",
       "    <tr>\n",
       "      <th>mileage</th>\n",
       "      <td>-0.738027</td>\n",
       "      <td>-0.537214</td>\n",
       "      <td>1.000000</td>\n",
       "      <td>-0.160223</td>\n",
       "      <td>0.202850</td>\n",
       "      <td>0.063652</td>\n",
       "    </tr>\n",
       "    <tr>\n",
       "      <th>tax</th>\n",
       "      <td>0.012480</td>\n",
       "      <td>0.268717</td>\n",
       "      <td>-0.160223</td>\n",
       "      <td>1.000000</td>\n",
       "      <td>-0.513742</td>\n",
       "      <td>0.338341</td>\n",
       "    </tr>\n",
       "    <tr>\n",
       "      <th>mpg</th>\n",
       "      <td>-0.094626</td>\n",
       "      <td>-0.438445</td>\n",
       "      <td>0.202850</td>\n",
       "      <td>-0.513742</td>\n",
       "      <td>1.000000</td>\n",
       "      <td>-0.339862</td>\n",
       "    </tr>\n",
       "    <tr>\n",
       "      <th>engineSize</th>\n",
       "      <td>-0.142147</td>\n",
       "      <td>0.516126</td>\n",
       "      <td>0.063652</td>\n",
       "      <td>0.338341</td>\n",
       "      <td>-0.339862</td>\n",
       "      <td>1.000000</td>\n",
       "    </tr>\n",
       "  </tbody>\n",
       "</table>\n",
       "</div>"
      ],
      "text/plain": [
       "                year     price   mileage       tax       mpg  engineSize\n",
       "year        1.000000  0.520712 -0.738027  0.012480 -0.094626   -0.142147\n",
       "price       0.520712  1.000000 -0.537214  0.268717 -0.438445    0.516126\n",
       "mileage    -0.738027 -0.537214  1.000000 -0.160223  0.202850    0.063652\n",
       "tax         0.012480  0.268717 -0.160223  1.000000 -0.513742    0.338341\n",
       "mpg        -0.094626 -0.438445  0.202850 -0.513742  1.000000   -0.339862\n",
       "engineSize -0.142147  0.516126  0.063652  0.338341 -0.339862    1.000000"
      ]
     },
     "execution_count": 23,
     "metadata": {},
     "output_type": "execute_result"
    }
   ],
   "source": [
    "dataFrame.corr() # correlation ilişki"
   ]
  },
  {
   "cell_type": "code",
   "execution_count": 24,
   "id": "7fd7cd8f",
   "metadata": {},
   "outputs": [
    {
     "data": {
      "text/plain": [
       "mileage      -0.537214\n",
       "mpg          -0.438445\n",
       "tax           0.268717\n",
       "engineSize    0.516126\n",
       "year          0.520712\n",
       "price         1.000000\n",
       "Name: price, dtype: float64"
      ]
     },
     "execution_count": 24,
     "metadata": {},
     "output_type": "execute_result"
    }
   ],
   "source": [
    "dataFrame.corr()[\"price\"].sort_values() # sort_values() = en küçükten en büyüğe ilişkisel sıralama"
   ]
  },
  {
   "cell_type": "code",
   "execution_count": 25,
   "id": "0673a3c1",
   "metadata": {},
   "outputs": [
    {
     "data": {
      "text/plain": [
       "<AxesSubplot:xlabel='mileage', ylabel='price'>"
      ]
     },
     "execution_count": 25,
     "metadata": {},
     "output_type": "execute_result"
    },
    {
     "data": {
      "image/png": "[encoded data removed]",
      "text/plain": [
       "<Figure size 432x288 with 1 Axes>"
      ]
     },
     "metadata": {
      "needs_background": "light"
     },
     "output_type": "display_data"
    }
   ],
   "source": [
    "sbn.scatterplot(x=\"mileage\",y=\"price\",data=dataFrame)"
   ]
  },
  {
   "cell_type": "code",
   "execution_count": 26,
   "id": "5629c5a1",
   "metadata": {},
   "outputs": [
    {
     "data": {
      "text/plain": [
       "<AxesSubplot:xlabel='year', ylabel='price'>"
      ]
     },
     "execution_count": 26,
     "metadata": {},
     "output_type": "execute_result"
    },
    {
     "data": {
      "image/png": "[encoded data removed]",
      "text/plain": [
       "<Figure size 432x288 with 1 Axes>"
      ]
     },
     "metadata": {
      "needs_background": "light"
     },
     "output_type": "display_data"
    }
   ],
   "source": [
    "sbn.scatterplot(x=\"year\",y=\"price\",data=dataFrame)"
   ]
  },
  {
   "cell_type": "code",
   "execution_count": 31,
   "id": "f3a68374",
   "metadata": {},
   "outputs": [
    {
     "data": {
      "text/html": [
       "<div>\n",
       "<style scoped>\n",
       "    .dataframe tbody tr th:only-of-type {\n",
       "        vertical-align: middle;\n",
       "    }\n",
       "\n",
       "    .dataframe tbody tr th {\n",
       "        vertical-align: top;\n",
       "    }\n",
       "\n",
       "    .dataframe thead th {\n",
       "        text-align: right;\n",
       "    }\n",
       "</style>\n",
       "<table border=\"1\" class=\"dataframe\">\n",
       "  <thead>\n",
       "    <tr style=\"text-align: right;\">\n",
       "      <th></th>\n",
       "      <th>year</th>\n",
       "      <th>price</th>\n",
       "      <th>transmission</th>\n",
       "      <th>mileage</th>\n",
       "      <th>tax</th>\n",
       "      <th>mpg</th>\n",
       "      <th>engineSize</th>\n",
       "    </tr>\n",
       "  </thead>\n",
       "  <tbody>\n",
       "    <tr>\n",
       "      <th>6199</th>\n",
       "      <td>2020</td>\n",
       "      <td>159999</td>\n",
       "      <td>Semi-Auto</td>\n",
       "      <td>1350</td>\n",
       "      <td>145</td>\n",
       "      <td>21.4</td>\n",
       "      <td>4.0</td>\n",
       "    </tr>\n",
       "    <tr>\n",
       "      <th>10044</th>\n",
       "      <td>2020</td>\n",
       "      <td>154998</td>\n",
       "      <td>Automatic</td>\n",
       "      <td>3000</td>\n",
       "      <td>150</td>\n",
       "      <td>21.4</td>\n",
       "      <td>4.0</td>\n",
       "    </tr>\n",
       "    <tr>\n",
       "      <th>5</th>\n",
       "      <td>2011</td>\n",
       "      <td>149948</td>\n",
       "      <td>Automatic</td>\n",
       "      <td>3000</td>\n",
       "      <td>570</td>\n",
       "      <td>21.4</td>\n",
       "      <td>6.2</td>\n",
       "    </tr>\n",
       "    <tr>\n",
       "      <th>8737</th>\n",
       "      <td>2019</td>\n",
       "      <td>140319</td>\n",
       "      <td>Semi-Auto</td>\n",
       "      <td>785</td>\n",
       "      <td>150</td>\n",
       "      <td>22.1</td>\n",
       "      <td>4.0</td>\n",
       "    </tr>\n",
       "    <tr>\n",
       "      <th>6386</th>\n",
       "      <td>2018</td>\n",
       "      <td>139995</td>\n",
       "      <td>Semi-Auto</td>\n",
       "      <td>13046</td>\n",
       "      <td>145</td>\n",
       "      <td>21.4</td>\n",
       "      <td>4.0</td>\n",
       "    </tr>\n",
       "    <tr>\n",
       "      <th>8</th>\n",
       "      <td>2019</td>\n",
       "      <td>139948</td>\n",
       "      <td>Automatic</td>\n",
       "      <td>12000</td>\n",
       "      <td>145</td>\n",
       "      <td>21.4</td>\n",
       "      <td>4.0</td>\n",
       "    </tr>\n",
       "    <tr>\n",
       "      <th>9133</th>\n",
       "      <td>2019</td>\n",
       "      <td>139559</td>\n",
       "      <td>Semi-Auto</td>\n",
       "      <td>1000</td>\n",
       "      <td>145</td>\n",
       "      <td>22.1</td>\n",
       "      <td>4.0</td>\n",
       "    </tr>\n",
       "    <tr>\n",
       "      <th>8821</th>\n",
       "      <td>2020</td>\n",
       "      <td>138439</td>\n",
       "      <td>Semi-Auto</td>\n",
       "      <td>1000</td>\n",
       "      <td>145</td>\n",
       "      <td>22.1</td>\n",
       "      <td>4.0</td>\n",
       "    </tr>\n",
       "    <tr>\n",
       "      <th>5902</th>\n",
       "      <td>2018</td>\n",
       "      <td>135771</td>\n",
       "      <td>Semi-Auto</td>\n",
       "      <td>19000</td>\n",
       "      <td>145</td>\n",
       "      <td>21.4</td>\n",
       "      <td>4.0</td>\n",
       "    </tr>\n",
       "    <tr>\n",
       "      <th>7864</th>\n",
       "      <td>2018</td>\n",
       "      <td>135124</td>\n",
       "      <td>Semi-Auto</td>\n",
       "      <td>18234</td>\n",
       "      <td>150</td>\n",
       "      <td>21.4</td>\n",
       "      <td>4.0</td>\n",
       "    </tr>\n",
       "    <tr>\n",
       "      <th>8673</th>\n",
       "      <td>2019</td>\n",
       "      <td>134219</td>\n",
       "      <td>Semi-Auto</td>\n",
       "      <td>1000</td>\n",
       "      <td>145</td>\n",
       "      <td>24.8</td>\n",
       "      <td>4.0</td>\n",
       "    </tr>\n",
       "    <tr>\n",
       "      <th>6210</th>\n",
       "      <td>2019</td>\n",
       "      <td>129990</td>\n",
       "      <td>Automatic</td>\n",
       "      <td>1000</td>\n",
       "      <td>145</td>\n",
       "      <td>24.8</td>\n",
       "      <td>4.0</td>\n",
       "    </tr>\n",
       "    <tr>\n",
       "      <th>4759</th>\n",
       "      <td>2019</td>\n",
       "      <td>126000</td>\n",
       "      <td>Automatic</td>\n",
       "      <td>250</td>\n",
       "      <td>145</td>\n",
       "      <td>24.6</td>\n",
       "      <td>4.0</td>\n",
       "    </tr>\n",
       "    <tr>\n",
       "      <th>2647</th>\n",
       "      <td>2019</td>\n",
       "      <td>125796</td>\n",
       "      <td>Automatic</td>\n",
       "      <td>637</td>\n",
       "      <td>145</td>\n",
       "      <td>24.8</td>\n",
       "      <td>4.0</td>\n",
       "    </tr>\n",
       "    <tr>\n",
       "      <th>6223</th>\n",
       "      <td>2019</td>\n",
       "      <td>124999</td>\n",
       "      <td>Automatic</td>\n",
       "      <td>1500</td>\n",
       "      <td>145</td>\n",
       "      <td>31.7</td>\n",
       "      <td>4.0</td>\n",
       "    </tr>\n",
       "    <tr>\n",
       "      <th>4094</th>\n",
       "      <td>2019</td>\n",
       "      <td>124366</td>\n",
       "      <td>Semi-Auto</td>\n",
       "      <td>880</td>\n",
       "      <td>145</td>\n",
       "      <td>24.8</td>\n",
       "      <td>4.0</td>\n",
       "    </tr>\n",
       "    <tr>\n",
       "      <th>2629</th>\n",
       "      <td>2019</td>\n",
       "      <td>123846</td>\n",
       "      <td>Semi-Auto</td>\n",
       "      <td>2951</td>\n",
       "      <td>145</td>\n",
       "      <td>22.1</td>\n",
       "      <td>4.0</td>\n",
       "    </tr>\n",
       "    <tr>\n",
       "      <th>7134</th>\n",
       "      <td>2019</td>\n",
       "      <td>115359</td>\n",
       "      <td>Semi-Auto</td>\n",
       "      <td>1000</td>\n",
       "      <td>145</td>\n",
       "      <td>30.1</td>\n",
       "      <td>4.0</td>\n",
       "    </tr>\n",
       "    <tr>\n",
       "      <th>9159</th>\n",
       "      <td>2019</td>\n",
       "      <td>114199</td>\n",
       "      <td>Semi-Auto</td>\n",
       "      <td>891</td>\n",
       "      <td>145</td>\n",
       "      <td>22.6</td>\n",
       "      <td>4.0</td>\n",
       "    </tr>\n",
       "    <tr>\n",
       "      <th>1980</th>\n",
       "      <td>2019</td>\n",
       "      <td>109995</td>\n",
       "      <td>Semi-Auto</td>\n",
       "      <td>4688</td>\n",
       "      <td>150</td>\n",
       "      <td>31.7</td>\n",
       "      <td>4.0</td>\n",
       "    </tr>\n",
       "  </tbody>\n",
       "</table>\n",
       "</div>"
      ],
      "text/plain": [
       "       year   price transmission  mileage  tax   mpg  engineSize\n",
       "6199   2020  159999    Semi-Auto     1350  145  21.4         4.0\n",
       "10044  2020  154998    Automatic     3000  150  21.4         4.0\n",
       "5      2011  149948    Automatic     3000  570  21.4         6.2\n",
       "8737   2019  140319    Semi-Auto      785  150  22.1         4.0\n",
       "6386   2018  139995    Semi-Auto    13046  145  21.4         4.0\n",
       "8      2019  139948    Automatic    12000  145  21.4         4.0\n",
       "9133   2019  139559    Semi-Auto     1000  145  22.1         4.0\n",
       "8821   2020  138439    Semi-Auto     1000  145  22.1         4.0\n",
       "5902   2018  135771    Semi-Auto    19000  145  21.4         4.0\n",
       "7864   2018  135124    Semi-Auto    18234  150  21.4         4.0\n",
       "8673   2019  134219    Semi-Auto     1000  145  24.8         4.0\n",
       "6210   2019  129990    Automatic     1000  145  24.8         4.0\n",
       "4759   2019  126000    Automatic      250  145  24.6         4.0\n",
       "2647   2019  125796    Automatic      637  145  24.8         4.0\n",
       "6223   2019  124999    Automatic     1500  145  31.7         4.0\n",
       "4094   2019  124366    Semi-Auto      880  145  24.8         4.0\n",
       "2629   2019  123846    Semi-Auto     2951  145  22.1         4.0\n",
       "7134   2019  115359    Semi-Auto     1000  145  30.1         4.0\n",
       "9159   2019  114199    Semi-Auto      891  145  22.6         4.0\n",
       "1980   2019  109995    Semi-Auto     4688  150  31.7         4.0"
      ]
     },
     "execution_count": 31,
     "metadata": {},
     "output_type": "execute_result"
    }
   ],
   "source": [
    "dataFrame.sort_values(\"price\", ascending = False).head(20) # ascending sıralama yapıyor"
   ]
  },
  {
   "cell_type": "code",
   "execution_count": 30,
   "id": "61c2d044",
   "metadata": {},
   "outputs": [
    {
     "data": {
      "text/html": [
       "<div>\n",
       "<style scoped>\n",
       "    .dataframe tbody tr th:only-of-type {\n",
       "        vertical-align: middle;\n",
       "    }\n",
       "\n",
       "    .dataframe tbody tr th {\n",
       "        vertical-align: top;\n",
       "    }\n",
       "\n",
       "    .dataframe thead th {\n",
       "        text-align: right;\n",
       "    }\n",
       "</style>\n",
       "<table border=\"1\" class=\"dataframe\">\n",
       "  <thead>\n",
       "    <tr style=\"text-align: right;\">\n",
       "      <th></th>\n",
       "      <th>year</th>\n",
       "      <th>price</th>\n",
       "      <th>transmission</th>\n",
       "      <th>mileage</th>\n",
       "      <th>tax</th>\n",
       "      <th>mpg</th>\n",
       "      <th>engineSize</th>\n",
       "    </tr>\n",
       "  </thead>\n",
       "  <tbody>\n",
       "    <tr>\n",
       "      <th>11816</th>\n",
       "      <td>2003</td>\n",
       "      <td>650</td>\n",
       "      <td>Manual</td>\n",
       "      <td>109090</td>\n",
       "      <td>235</td>\n",
       "      <td>40.0</td>\n",
       "      <td>1.4</td>\n",
       "    </tr>\n",
       "    <tr>\n",
       "      <th>12008</th>\n",
       "      <td>2010</td>\n",
       "      <td>1350</td>\n",
       "      <td>Manual</td>\n",
       "      <td>116126</td>\n",
       "      <td>145</td>\n",
       "      <td>54.3</td>\n",
       "      <td>2.0</td>\n",
       "    </tr>\n",
       "    <tr>\n",
       "      <th>11765</th>\n",
       "      <td>2000</td>\n",
       "      <td>1490</td>\n",
       "      <td>Automatic</td>\n",
       "      <td>87000</td>\n",
       "      <td>265</td>\n",
       "      <td>27.2</td>\n",
       "      <td>3.2</td>\n",
       "    </tr>\n",
       "    <tr>\n",
       "      <th>11549</th>\n",
       "      <td>2002</td>\n",
       "      <td>1495</td>\n",
       "      <td>Automatic</td>\n",
       "      <td>13800</td>\n",
       "      <td>305</td>\n",
       "      <td>39.8</td>\n",
       "      <td>2.7</td>\n",
       "    </tr>\n",
       "    <tr>\n",
       "      <th>12594</th>\n",
       "      <td>2004</td>\n",
       "      <td>1495</td>\n",
       "      <td>Manual</td>\n",
       "      <td>119000</td>\n",
       "      <td>300</td>\n",
       "      <td>34.5</td>\n",
       "      <td>1.8</td>\n",
       "    </tr>\n",
       "    <tr>\n",
       "      <th>11174</th>\n",
       "      <td>2001</td>\n",
       "      <td>1695</td>\n",
       "      <td>Automatic</td>\n",
       "      <td>108800</td>\n",
       "      <td>325</td>\n",
       "      <td>31.7</td>\n",
       "      <td>3.2</td>\n",
       "    </tr>\n",
       "    <tr>\n",
       "      <th>12710</th>\n",
       "      <td>2006</td>\n",
       "      <td>1695</td>\n",
       "      <td>Automatic</td>\n",
       "      <td>153000</td>\n",
       "      <td>300</td>\n",
       "      <td>33.6</td>\n",
       "      <td>1.8</td>\n",
       "    </tr>\n",
       "    <tr>\n",
       "      <th>12766</th>\n",
       "      <td>2004</td>\n",
       "      <td>1780</td>\n",
       "      <td>Automatic</td>\n",
       "      <td>118000</td>\n",
       "      <td>265</td>\n",
       "      <td>41.5</td>\n",
       "      <td>2.2</td>\n",
       "    </tr>\n",
       "    <tr>\n",
       "      <th>12009</th>\n",
       "      <td>2007</td>\n",
       "      <td>1800</td>\n",
       "      <td>Automatic</td>\n",
       "      <td>84000</td>\n",
       "      <td>200</td>\n",
       "      <td>42.8</td>\n",
       "      <td>1.5</td>\n",
       "    </tr>\n",
       "    <tr>\n",
       "      <th>11764</th>\n",
       "      <td>1998</td>\n",
       "      <td>1990</td>\n",
       "      <td>Automatic</td>\n",
       "      <td>99300</td>\n",
       "      <td>265</td>\n",
       "      <td>32.1</td>\n",
       "      <td>2.3</td>\n",
       "    </tr>\n",
       "    <tr>\n",
       "      <th>11808</th>\n",
       "      <td>1998</td>\n",
       "      <td>1990</td>\n",
       "      <td>Automatic</td>\n",
       "      <td>113557</td>\n",
       "      <td>265</td>\n",
       "      <td>32.1</td>\n",
       "      <td>2.3</td>\n",
       "    </tr>\n",
       "    <tr>\n",
       "      <th>11383</th>\n",
       "      <td>2005</td>\n",
       "      <td>1995</td>\n",
       "      <td>Automatic</td>\n",
       "      <td>105000</td>\n",
       "      <td>260</td>\n",
       "      <td>43.5</td>\n",
       "      <td>2.1</td>\n",
       "    </tr>\n",
       "    <tr>\n",
       "      <th>11378</th>\n",
       "      <td>2004</td>\n",
       "      <td>1995</td>\n",
       "      <td>Semi-Auto</td>\n",
       "      <td>165000</td>\n",
       "      <td>330</td>\n",
       "      <td>20.0</td>\n",
       "      <td>3.7</td>\n",
       "    </tr>\n",
       "    <tr>\n",
       "      <th>11857</th>\n",
       "      <td>2002</td>\n",
       "      <td>2140</td>\n",
       "      <td>Automatic</td>\n",
       "      <td>52700</td>\n",
       "      <td>325</td>\n",
       "      <td>31.4</td>\n",
       "      <td>2.0</td>\n",
       "    </tr>\n",
       "    <tr>\n",
       "      <th>11906</th>\n",
       "      <td>2007</td>\n",
       "      <td>2478</td>\n",
       "      <td>Automatic</td>\n",
       "      <td>81000</td>\n",
       "      <td>160</td>\n",
       "      <td>49.6</td>\n",
       "      <td>2.0</td>\n",
       "    </tr>\n",
       "    <tr>\n",
       "      <th>11795</th>\n",
       "      <td>2005</td>\n",
       "      <td>2490</td>\n",
       "      <td>Automatic</td>\n",
       "      <td>101980</td>\n",
       "      <td>200</td>\n",
       "      <td>47.9</td>\n",
       "      <td>2.0</td>\n",
       "    </tr>\n",
       "    <tr>\n",
       "      <th>12765</th>\n",
       "      <td>2004</td>\n",
       "      <td>2495</td>\n",
       "      <td>Automatic</td>\n",
       "      <td>104000</td>\n",
       "      <td>325</td>\n",
       "      <td>31.7</td>\n",
       "      <td>1.8</td>\n",
       "    </tr>\n",
       "    <tr>\n",
       "      <th>11943</th>\n",
       "      <td>2005</td>\n",
       "      <td>2690</td>\n",
       "      <td>Automatic</td>\n",
       "      <td>109000</td>\n",
       "      <td>325</td>\n",
       "      <td>32.1</td>\n",
       "      <td>1.8</td>\n",
       "    </tr>\n",
       "    <tr>\n",
       "      <th>11263</th>\n",
       "      <td>2007</td>\n",
       "      <td>2795</td>\n",
       "      <td>Manual</td>\n",
       "      <td>79485</td>\n",
       "      <td>200</td>\n",
       "      <td>45.6</td>\n",
       "      <td>1.5</td>\n",
       "    </tr>\n",
       "    <tr>\n",
       "      <th>49</th>\n",
       "      <td>2006</td>\n",
       "      <td>2880</td>\n",
       "      <td>Automatic</td>\n",
       "      <td>66000</td>\n",
       "      <td>160</td>\n",
       "      <td>52.3</td>\n",
       "      <td>2.0</td>\n",
       "    </tr>\n",
       "  </tbody>\n",
       "</table>\n",
       "</div>"
      ],
      "text/plain": [
       "       year  price transmission  mileage  tax   mpg  engineSize\n",
       "11816  2003    650       Manual   109090  235  40.0         1.4\n",
       "12008  2010   1350       Manual   116126  145  54.3         2.0\n",
       "11765  2000   1490    Automatic    87000  265  27.2         3.2\n",
       "11549  2002   1495    Automatic    13800  305  39.8         2.7\n",
       "12594  2004   1495       Manual   119000  300  34.5         1.8\n",
       "11174  2001   1695    Automatic   108800  325  31.7         3.2\n",
       "12710  2006   1695    Automatic   153000  300  33.6         1.8\n",
       "12766  2004   1780    Automatic   118000  265  41.5         2.2\n",
       "12009  2007   1800    Automatic    84000  200  42.8         1.5\n",
       "11764  1998   1990    Automatic    99300  265  32.1         2.3\n",
       "11808  1998   1990    Automatic   113557  265  32.1         2.3\n",
       "11383  2005   1995    Automatic   105000  260  43.5         2.1\n",
       "11378  2004   1995    Semi-Auto   165000  330  20.0         3.7\n",
       "11857  2002   2140    Automatic    52700  325  31.4         2.0\n",
       "11906  2007   2478    Automatic    81000  160  49.6         2.0\n",
       "11795  2005   2490    Automatic   101980  200  47.9         2.0\n",
       "12765  2004   2495    Automatic   104000  325  31.7         1.8\n",
       "11943  2005   2690    Automatic   109000  325  32.1         1.8\n",
       "11263  2007   2795       Manual    79485  200  45.6         1.5\n",
       "49     2006   2880    Automatic    66000  160  52.3         2.0"
      ]
     },
     "execution_count": 30,
     "metadata": {},
     "output_type": "execute_result"
    }
   ],
   "source": [
    "dataFrame.sort_values(\"price\", ascending = True).head(20)"
   ]
  },
  {
   "cell_type": "code",
   "execution_count": 59,
   "id": "733f8a62",
   "metadata": {},
   "outputs": [
    {
     "data": {
      "text/plain": [
       "13119"
      ]
     },
     "execution_count": 59,
     "metadata": {},
     "output_type": "execute_result"
    }
   ],
   "source": [
    "len(dataFrame)"
   ]
  },
  {
   "cell_type": "code",
   "execution_count": 60,
   "id": "d3820631",
   "metadata": {},
   "outputs": [
    {
     "data": {
      "text/plain": [
       "131.19"
      ]
     },
     "execution_count": 60,
     "metadata": {},
     "output_type": "execute_result"
    }
   ],
   "source": [
    "len(dataFrame) * 0.01 # yüzde 1 veri atılacak grafiği bozduğu için"
   ]
  },
  {
   "cell_type": "code",
   "execution_count": 61,
   "id": "742a4795",
   "metadata": {},
   "outputs": [],
   "source": [
    "asilDf = dataFrame.sort_values(\"price\", ascending = False).iloc[131:]"
   ]
  },
  {
   "cell_type": "code",
   "execution_count": 62,
   "id": "31c5a184",
   "metadata": {},
   "outputs": [
    {
     "data": {
      "text/html": [
       "<div>\n",
       "<style scoped>\n",
       "    .dataframe tbody tr th:only-of-type {\n",
       "        vertical-align: middle;\n",
       "    }\n",
       "\n",
       "    .dataframe tbody tr th {\n",
       "        vertical-align: top;\n",
       "    }\n",
       "\n",
       "    .dataframe thead th {\n",
       "        text-align: right;\n",
       "    }\n",
       "</style>\n",
       "<table border=\"1\" class=\"dataframe\">\n",
       "  <thead>\n",
       "    <tr style=\"text-align: right;\">\n",
       "      <th></th>\n",
       "      <th>year</th>\n",
       "      <th>price</th>\n",
       "      <th>transmission</th>\n",
       "      <th>mileage</th>\n",
       "      <th>tax</th>\n",
       "      <th>mpg</th>\n",
       "      <th>engineSize</th>\n",
       "    </tr>\n",
       "  </thead>\n",
       "  <tbody>\n",
       "    <tr>\n",
       "      <th>6177</th>\n",
       "      <td>2019</td>\n",
       "      <td>65990</td>\n",
       "      <td>Semi-Auto</td>\n",
       "      <td>5076</td>\n",
       "      <td>150</td>\n",
       "      <td>30.4</td>\n",
       "      <td>3.0</td>\n",
       "    </tr>\n",
       "    <tr>\n",
       "      <th>5779</th>\n",
       "      <td>2020</td>\n",
       "      <td>65990</td>\n",
       "      <td>Semi-Auto</td>\n",
       "      <td>999</td>\n",
       "      <td>145</td>\n",
       "      <td>28.0</td>\n",
       "      <td>4.0</td>\n",
       "    </tr>\n",
       "    <tr>\n",
       "      <th>3191</th>\n",
       "      <td>2020</td>\n",
       "      <td>65980</td>\n",
       "      <td>Semi-Auto</td>\n",
       "      <td>3999</td>\n",
       "      <td>145</td>\n",
       "      <td>28.0</td>\n",
       "      <td>4.0</td>\n",
       "    </tr>\n",
       "    <tr>\n",
       "      <th>4727</th>\n",
       "      <td>2019</td>\n",
       "      <td>65000</td>\n",
       "      <td>Semi-Auto</td>\n",
       "      <td>3398</td>\n",
       "      <td>145</td>\n",
       "      <td>27.2</td>\n",
       "      <td>4.0</td>\n",
       "    </tr>\n",
       "    <tr>\n",
       "      <th>8814</th>\n",
       "      <td>2019</td>\n",
       "      <td>64999</td>\n",
       "      <td>Semi-Auto</td>\n",
       "      <td>119</td>\n",
       "      <td>145</td>\n",
       "      <td>40.9</td>\n",
       "      <td>3.0</td>\n",
       "    </tr>\n",
       "    <tr>\n",
       "      <th>...</th>\n",
       "      <td>...</td>\n",
       "      <td>...</td>\n",
       "      <td>...</td>\n",
       "      <td>...</td>\n",
       "      <td>...</td>\n",
       "      <td>...</td>\n",
       "      <td>...</td>\n",
       "    </tr>\n",
       "    <tr>\n",
       "      <th>11549</th>\n",
       "      <td>2002</td>\n",
       "      <td>1495</td>\n",
       "      <td>Automatic</td>\n",
       "      <td>13800</td>\n",
       "      <td>305</td>\n",
       "      <td>39.8</td>\n",
       "      <td>2.7</td>\n",
       "    </tr>\n",
       "    <tr>\n",
       "      <th>12594</th>\n",
       "      <td>2004</td>\n",
       "      <td>1495</td>\n",
       "      <td>Manual</td>\n",
       "      <td>119000</td>\n",
       "      <td>300</td>\n",
       "      <td>34.5</td>\n",
       "      <td>1.8</td>\n",
       "    </tr>\n",
       "    <tr>\n",
       "      <th>11765</th>\n",
       "      <td>2000</td>\n",
       "      <td>1490</td>\n",
       "      <td>Automatic</td>\n",
       "      <td>87000</td>\n",
       "      <td>265</td>\n",
       "      <td>27.2</td>\n",
       "      <td>3.2</td>\n",
       "    </tr>\n",
       "    <tr>\n",
       "      <th>12008</th>\n",
       "      <td>2010</td>\n",
       "      <td>1350</td>\n",
       "      <td>Manual</td>\n",
       "      <td>116126</td>\n",
       "      <td>145</td>\n",
       "      <td>54.3</td>\n",
       "      <td>2.0</td>\n",
       "    </tr>\n",
       "    <tr>\n",
       "      <th>11816</th>\n",
       "      <td>2003</td>\n",
       "      <td>650</td>\n",
       "      <td>Manual</td>\n",
       "      <td>109090</td>\n",
       "      <td>235</td>\n",
       "      <td>40.0</td>\n",
       "      <td>1.4</td>\n",
       "    </tr>\n",
       "  </tbody>\n",
       "</table>\n",
       "<p>12988 rows × 7 columns</p>\n",
       "</div>"
      ],
      "text/plain": [
       "       year  price transmission  mileage  tax   mpg  engineSize\n",
       "6177   2019  65990    Semi-Auto     5076  150  30.4         3.0\n",
       "5779   2020  65990    Semi-Auto      999  145  28.0         4.0\n",
       "3191   2020  65980    Semi-Auto     3999  145  28.0         4.0\n",
       "4727   2019  65000    Semi-Auto     3398  145  27.2         4.0\n",
       "8814   2019  64999    Semi-Auto      119  145  40.9         3.0\n",
       "...     ...    ...          ...      ...  ...   ...         ...\n",
       "11549  2002   1495    Automatic    13800  305  39.8         2.7\n",
       "12594  2004   1495       Manual   119000  300  34.5         1.8\n",
       "11765  2000   1490    Automatic    87000  265  27.2         3.2\n",
       "12008  2010   1350       Manual   116126  145  54.3         2.0\n",
       "11816  2003    650       Manual   109090  235  40.0         1.4\n",
       "\n",
       "[12988 rows x 7 columns]"
      ]
     },
     "execution_count": 62,
     "metadata": {},
     "output_type": "execute_result"
    }
   ],
   "source": [
    "asilDf"
   ]
  },
  {
   "cell_type": "code",
   "execution_count": 63,
   "id": "638acbb4",
   "metadata": {},
   "outputs": [
    {
     "data": {
      "text/html": [
       "<div>\n",
       "<style scoped>\n",
       "    .dataframe tbody tr th:only-of-type {\n",
       "        vertical-align: middle;\n",
       "    }\n",
       "\n",
       "    .dataframe tbody tr th {\n",
       "        vertical-align: top;\n",
       "    }\n",
       "\n",
       "    .dataframe thead th {\n",
       "        text-align: right;\n",
       "    }\n",
       "</style>\n",
       "<table border=\"1\" class=\"dataframe\">\n",
       "  <thead>\n",
       "    <tr style=\"text-align: right;\">\n",
       "      <th></th>\n",
       "      <th>year</th>\n",
       "      <th>price</th>\n",
       "      <th>mileage</th>\n",
       "      <th>tax</th>\n",
       "      <th>mpg</th>\n",
       "      <th>engineSize</th>\n",
       "    </tr>\n",
       "  </thead>\n",
       "  <tbody>\n",
       "    <tr>\n",
       "      <th>count</th>\n",
       "      <td>12988.000000</td>\n",
       "      <td>12988.000000</td>\n",
       "      <td>12988.000000</td>\n",
       "      <td>12988.000000</td>\n",
       "      <td>12988.000000</td>\n",
       "      <td>12988.000000</td>\n",
       "    </tr>\n",
       "    <tr>\n",
       "      <th>mean</th>\n",
       "      <td>2017.281876</td>\n",
       "      <td>24074.926933</td>\n",
       "      <td>22132.741146</td>\n",
       "      <td>129.689714</td>\n",
       "      <td>55.437142</td>\n",
       "      <td>2.050901</td>\n",
       "    </tr>\n",
       "    <tr>\n",
       "      <th>std</th>\n",
       "      <td>2.228515</td>\n",
       "      <td>9866.224575</td>\n",
       "      <td>21196.776401</td>\n",
       "      <td>65.183076</td>\n",
       "      <td>15.025999</td>\n",
       "      <td>0.532596</td>\n",
       "    </tr>\n",
       "    <tr>\n",
       "      <th>min</th>\n",
       "      <td>1970.000000</td>\n",
       "      <td>650.000000</td>\n",
       "      <td>1.000000</td>\n",
       "      <td>0.000000</td>\n",
       "      <td>1.100000</td>\n",
       "      <td>0.000000</td>\n",
       "    </tr>\n",
       "    <tr>\n",
       "      <th>25%</th>\n",
       "      <td>2016.000000</td>\n",
       "      <td>17357.500000</td>\n",
       "      <td>6322.000000</td>\n",
       "      <td>125.000000</td>\n",
       "      <td>45.600000</td>\n",
       "      <td>1.675000</td>\n",
       "    </tr>\n",
       "    <tr>\n",
       "      <th>50%</th>\n",
       "      <td>2018.000000</td>\n",
       "      <td>22299.000000</td>\n",
       "      <td>15369.500000</td>\n",
       "      <td>145.000000</td>\n",
       "      <td>56.500000</td>\n",
       "      <td>2.000000</td>\n",
       "    </tr>\n",
       "    <tr>\n",
       "      <th>75%</th>\n",
       "      <td>2019.000000</td>\n",
       "      <td>28706.000000</td>\n",
       "      <td>31982.250000</td>\n",
       "      <td>145.000000</td>\n",
       "      <td>64.200000</td>\n",
       "      <td>2.100000</td>\n",
       "    </tr>\n",
       "    <tr>\n",
       "      <th>max</th>\n",
       "      <td>2020.000000</td>\n",
       "      <td>65990.000000</td>\n",
       "      <td>259000.000000</td>\n",
       "      <td>580.000000</td>\n",
       "      <td>217.300000</td>\n",
       "      <td>6.200000</td>\n",
       "    </tr>\n",
       "  </tbody>\n",
       "</table>\n",
       "</div>"
      ],
      "text/plain": [
       "               year         price        mileage           tax           mpg  \\\n",
       "count  12988.000000  12988.000000   12988.000000  12988.000000  12988.000000   \n",
       "mean    2017.281876  24074.926933   22132.741146    129.689714     55.437142   \n",
       "std        2.228515   9866.224575   21196.776401     65.183076     15.025999   \n",
       "min     1970.000000    650.000000       1.000000      0.000000      1.100000   \n",
       "25%     2016.000000  17357.500000    6322.000000    125.000000     45.600000   \n",
       "50%     2018.000000  22299.000000   15369.500000    145.000000     56.500000   \n",
       "75%     2019.000000  28706.000000   31982.250000    145.000000     64.200000   \n",
       "max     2020.000000  65990.000000  259000.000000    580.000000    217.300000   \n",
       "\n",
       "         engineSize  \n",
       "count  12988.000000  \n",
       "mean       2.050901  \n",
       "std        0.532596  \n",
       "min        0.000000  \n",
       "25%        1.675000  \n",
       "50%        2.000000  \n",
       "75%        2.100000  \n",
       "max        6.200000  "
      ]
     },
     "execution_count": 63,
     "metadata": {},
     "output_type": "execute_result"
    }
   ],
   "source": [
    "asilDf.describe()"
   ]
  },
  {
   "cell_type": "code",
   "execution_count": 64,
   "id": "f2d8bdb0",
   "metadata": {},
   "outputs": [
    {
     "name": "stderr",
     "output_type": "stream",
     "text": [
      "C:\\ProgramData\\Anaconda3\\lib\\site-packages\\seaborn\\distributions.py:2557: FutureWarning: `distplot` is a deprecated function and will be removed in a future version. Please adapt your code to use either `displot` (a figure-level function with similar flexibility) or `histplot` (an axes-level function for histograms).\n",
      "  warnings.warn(msg, FutureWarning)\n"
     ]
    },
    {
     "data": {
      "text/plain": [
       "<AxesSubplot:xlabel='price', ylabel='Density'>"
      ]
     },
     "execution_count": 64,
     "metadata": {},
     "output_type": "execute_result"
    },
    {
     "data": {
      "image/png": "[encoded data removed]",
      "text/plain": [
       "<Figure size 432x288 with 1 Axes>"
      ]
     },
     "metadata": {
      "needs_background": "light"
     },
     "output_type": "display_data"
    }
   ],
   "source": [
    "sbn.distplot(asilDf[\"price\"]) # normal dağılıma yakın grafik 0.99 veri elimizde"
   ]
  },
  {
   "cell_type": "code",
   "execution_count": 65,
   "id": "88941e9e",
   "metadata": {},
   "outputs": [
    {
     "data": {
      "text/plain": [
       "year\n",
       "1970    24999.000000\n",
       "1997     9995.000000\n",
       "1998     8605.000000\n",
       "1999     5995.000000\n",
       "2000     5743.333333\n",
       "2001     4957.900000\n",
       "2002     5820.444444\n",
       "2003     4878.000000\n",
       "2004     4727.615385\n",
       "2005     4426.111111\n",
       "2006     4036.875000\n",
       "2007     5136.045455\n",
       "2008     6967.437500\n",
       "2009     6166.764706\n",
       "2010     8308.473684\n",
       "2011    12624.894737\n",
       "2012    10845.140351\n",
       "2013    11939.842466\n",
       "2014    14042.936864\n",
       "2015    16731.780020\n",
       "2016    19307.892948\n",
       "2017    21514.307854\n",
       "2018    25720.162918\n",
       "2019    31290.020865\n",
       "2020    35433.282337\n",
       "Name: price, dtype: float64"
      ]
     },
     "execution_count": 65,
     "metadata": {},
     "output_type": "execute_result"
    }
   ],
   "source": [
    "dataFrame.groupby(\"year\").mean()[\"price\"]"
   ]
  },
  {
   "cell_type": "code",
   "execution_count": 66,
   "id": "05e3f579",
   "metadata": {},
   "outputs": [
    {
     "data": {
      "text/plain": [
       "year\n",
       "1970    24999.000000\n",
       "1997     9995.000000\n",
       "1998     8605.000000\n",
       "1999     5995.000000\n",
       "2000     5743.333333\n",
       "2001     4957.900000\n",
       "2002     5820.444444\n",
       "2003     4878.000000\n",
       "2004     4727.615385\n",
       "2005     4426.111111\n",
       "2006     4036.875000\n",
       "2007     5136.045455\n",
       "2008     6967.437500\n",
       "2009     6166.764706\n",
       "2010     8308.473684\n",
       "2011     8913.459459\n",
       "2012    10845.140351\n",
       "2013    11939.842466\n",
       "2014    14042.936864\n",
       "2015    16647.822222\n",
       "2016    19223.558943\n",
       "2017    21356.280421\n",
       "2018    24800.844506\n",
       "2019    30289.524832\n",
       "2020    34234.794872\n",
       "Name: price, dtype: float64"
      ]
     },
     "execution_count": 66,
     "metadata": {},
     "output_type": "execute_result"
    }
   ],
   "source": [
    "asilDf.groupby(\"year\").mean()[\"price\"]"
   ]
  },
  {
   "cell_type": "code",
   "execution_count": 67,
   "id": "e533bd98",
   "metadata": {},
   "outputs": [
    {
     "data": {
      "text/plain": [
       "year\n",
       "1997     9995.000000\n",
       "1998     8605.000000\n",
       "1999     5995.000000\n",
       "2000     5743.333333\n",
       "2001     4957.900000\n",
       "2002     5820.444444\n",
       "2003     4878.000000\n",
       "2004     4727.615385\n",
       "2005     4426.111111\n",
       "2006     4036.875000\n",
       "2007     5136.045455\n",
       "2008     6967.437500\n",
       "2009     6166.764706\n",
       "2010     8308.473684\n",
       "2011     8913.459459\n",
       "2012    10845.140351\n",
       "2013    11939.842466\n",
       "2014    14042.936864\n",
       "2015    16647.822222\n",
       "2016    19223.558943\n",
       "2017    21356.280421\n",
       "2018    24800.844506\n",
       "2019    30289.524832\n",
       "2020    34234.794872\n",
       "Name: price, dtype: float64"
      ]
     },
     "execution_count": 67,
     "metadata": {},
     "output_type": "execute_result"
    }
   ],
   "source": [
    "asilDf[asilDf.year != 1970].groupby(\"year\").mean()[\"price\"]"
   ]
  },
  {
   "cell_type": "code",
   "execution_count": 68,
   "id": "bbcdcb91",
   "metadata": {},
   "outputs": [],
   "source": [
    "dataFrame = asilDf"
   ]
  },
  {
   "cell_type": "code",
   "execution_count": 69,
   "id": "62692a3f",
   "metadata": {},
   "outputs": [
    {
     "data": {
      "text/html": [
       "<div>\n",
       "<style scoped>\n",
       "    .dataframe tbody tr th:only-of-type {\n",
       "        vertical-align: middle;\n",
       "    }\n",
       "\n",
       "    .dataframe tbody tr th {\n",
       "        vertical-align: top;\n",
       "    }\n",
       "\n",
       "    .dataframe thead th {\n",
       "        text-align: right;\n",
       "    }\n",
       "</style>\n",
       "<table border=\"1\" class=\"dataframe\">\n",
       "  <thead>\n",
       "    <tr style=\"text-align: right;\">\n",
       "      <th></th>\n",
       "      <th>year</th>\n",
       "      <th>price</th>\n",
       "      <th>mileage</th>\n",
       "      <th>tax</th>\n",
       "      <th>mpg</th>\n",
       "      <th>engineSize</th>\n",
       "    </tr>\n",
       "  </thead>\n",
       "  <tbody>\n",
       "    <tr>\n",
       "      <th>count</th>\n",
       "      <td>12988.000000</td>\n",
       "      <td>12988.000000</td>\n",
       "      <td>12988.000000</td>\n",
       "      <td>12988.000000</td>\n",
       "      <td>12988.000000</td>\n",
       "      <td>12988.000000</td>\n",
       "    </tr>\n",
       "    <tr>\n",
       "      <th>mean</th>\n",
       "      <td>2017.281876</td>\n",
       "      <td>24074.926933</td>\n",
       "      <td>22132.741146</td>\n",
       "      <td>129.689714</td>\n",
       "      <td>55.437142</td>\n",
       "      <td>2.050901</td>\n",
       "    </tr>\n",
       "    <tr>\n",
       "      <th>std</th>\n",
       "      <td>2.228515</td>\n",
       "      <td>9866.224575</td>\n",
       "      <td>21196.776401</td>\n",
       "      <td>65.183076</td>\n",
       "      <td>15.025999</td>\n",
       "      <td>0.532596</td>\n",
       "    </tr>\n",
       "    <tr>\n",
       "      <th>min</th>\n",
       "      <td>1970.000000</td>\n",
       "      <td>650.000000</td>\n",
       "      <td>1.000000</td>\n",
       "      <td>0.000000</td>\n",
       "      <td>1.100000</td>\n",
       "      <td>0.000000</td>\n",
       "    </tr>\n",
       "    <tr>\n",
       "      <th>25%</th>\n",
       "      <td>2016.000000</td>\n",
       "      <td>17357.500000</td>\n",
       "      <td>6322.000000</td>\n",
       "      <td>125.000000</td>\n",
       "      <td>45.600000</td>\n",
       "      <td>1.675000</td>\n",
       "    </tr>\n",
       "    <tr>\n",
       "      <th>50%</th>\n",
       "      <td>2018.000000</td>\n",
       "      <td>22299.000000</td>\n",
       "      <td>15369.500000</td>\n",
       "      <td>145.000000</td>\n",
       "      <td>56.500000</td>\n",
       "      <td>2.000000</td>\n",
       "    </tr>\n",
       "    <tr>\n",
       "      <th>75%</th>\n",
       "      <td>2019.000000</td>\n",
       "      <td>28706.000000</td>\n",
       "      <td>31982.250000</td>\n",
       "      <td>145.000000</td>\n",
       "      <td>64.200000</td>\n",
       "      <td>2.100000</td>\n",
       "    </tr>\n",
       "    <tr>\n",
       "      <th>max</th>\n",
       "      <td>2020.000000</td>\n",
       "      <td>65990.000000</td>\n",
       "      <td>259000.000000</td>\n",
       "      <td>580.000000</td>\n",
       "      <td>217.300000</td>\n",
       "      <td>6.200000</td>\n",
       "    </tr>\n",
       "  </tbody>\n",
       "</table>\n",
       "</div>"
      ],
      "text/plain": [
       "               year         price        mileage           tax           mpg  \\\n",
       "count  12988.000000  12988.000000   12988.000000  12988.000000  12988.000000   \n",
       "mean    2017.281876  24074.926933   22132.741146    129.689714     55.437142   \n",
       "std        2.228515   9866.224575   21196.776401     65.183076     15.025999   \n",
       "min     1970.000000    650.000000       1.000000      0.000000      1.100000   \n",
       "25%     2016.000000  17357.500000    6322.000000    125.000000     45.600000   \n",
       "50%     2018.000000  22299.000000   15369.500000    145.000000     56.500000   \n",
       "75%     2019.000000  28706.000000   31982.250000    145.000000     64.200000   \n",
       "max     2020.000000  65990.000000  259000.000000    580.000000    217.300000   \n",
       "\n",
       "         engineSize  \n",
       "count  12988.000000  \n",
       "mean       2.050901  \n",
       "std        0.532596  \n",
       "min        0.000000  \n",
       "25%        1.675000  \n",
       "50%        2.000000  \n",
       "75%        2.100000  \n",
       "max        6.200000  "
      ]
     },
     "execution_count": 69,
     "metadata": {},
     "output_type": "execute_result"
    }
   ],
   "source": [
    "dataFrame.describe()"
   ]
  },
  {
   "cell_type": "code",
   "execution_count": 70,
   "id": "9e82ee20",
   "metadata": {},
   "outputs": [],
   "source": [
    "dataFrame = dataFrame[dataFrame.year != 1970]"
   ]
  },
  {
   "cell_type": "code",
   "execution_count": 71,
   "id": "67f446e9",
   "metadata": {},
   "outputs": [
    {
     "data": {
      "text/plain": [
       "year\n",
       "1997     9995.000000\n",
       "1998     8605.000000\n",
       "1999     5995.000000\n",
       "2000     5743.333333\n",
       "2001     4957.900000\n",
       "2002     5820.444444\n",
       "2003     4878.000000\n",
       "2004     4727.615385\n",
       "2005     4426.111111\n",
       "2006     4036.875000\n",
       "2007     5136.045455\n",
       "2008     6967.437500\n",
       "2009     6166.764706\n",
       "2010     8308.473684\n",
       "2011     8913.459459\n",
       "2012    10845.140351\n",
       "2013    11939.842466\n",
       "2014    14042.936864\n",
       "2015    16647.822222\n",
       "2016    19223.558943\n",
       "2017    21356.280421\n",
       "2018    24800.844506\n",
       "2019    30289.524832\n",
       "2020    34234.794872\n",
       "Name: price, dtype: float64"
      ]
     },
     "execution_count": 71,
     "metadata": {},
     "output_type": "execute_result"
    }
   ],
   "source": [
    "dataFrame.groupby(\"year\").mean()[\"price\"]"
   ]
  },
  {
   "cell_type": "code",
   "execution_count": 72,
   "id": "b2825786",
   "metadata": {},
   "outputs": [
    {
     "data": {
      "text/html": [
       "<div>\n",
       "<style scoped>\n",
       "    .dataframe tbody tr th:only-of-type {\n",
       "        vertical-align: middle;\n",
       "    }\n",
       "\n",
       "    .dataframe tbody tr th {\n",
       "        vertical-align: top;\n",
       "    }\n",
       "\n",
       "    .dataframe thead th {\n",
       "        text-align: right;\n",
       "    }\n",
       "</style>\n",
       "<table border=\"1\" class=\"dataframe\">\n",
       "  <thead>\n",
       "    <tr style=\"text-align: right;\">\n",
       "      <th></th>\n",
       "      <th>year</th>\n",
       "      <th>price</th>\n",
       "      <th>transmission</th>\n",
       "      <th>mileage</th>\n",
       "      <th>tax</th>\n",
       "      <th>mpg</th>\n",
       "      <th>engineSize</th>\n",
       "    </tr>\n",
       "  </thead>\n",
       "  <tbody>\n",
       "    <tr>\n",
       "      <th>6177</th>\n",
       "      <td>2019</td>\n",
       "      <td>65990</td>\n",
       "      <td>Semi-Auto</td>\n",
       "      <td>5076</td>\n",
       "      <td>150</td>\n",
       "      <td>30.4</td>\n",
       "      <td>3.0</td>\n",
       "    </tr>\n",
       "    <tr>\n",
       "      <th>5779</th>\n",
       "      <td>2020</td>\n",
       "      <td>65990</td>\n",
       "      <td>Semi-Auto</td>\n",
       "      <td>999</td>\n",
       "      <td>145</td>\n",
       "      <td>28.0</td>\n",
       "      <td>4.0</td>\n",
       "    </tr>\n",
       "    <tr>\n",
       "      <th>3191</th>\n",
       "      <td>2020</td>\n",
       "      <td>65980</td>\n",
       "      <td>Semi-Auto</td>\n",
       "      <td>3999</td>\n",
       "      <td>145</td>\n",
       "      <td>28.0</td>\n",
       "      <td>4.0</td>\n",
       "    </tr>\n",
       "    <tr>\n",
       "      <th>4727</th>\n",
       "      <td>2019</td>\n",
       "      <td>65000</td>\n",
       "      <td>Semi-Auto</td>\n",
       "      <td>3398</td>\n",
       "      <td>145</td>\n",
       "      <td>27.2</td>\n",
       "      <td>4.0</td>\n",
       "    </tr>\n",
       "    <tr>\n",
       "      <th>8814</th>\n",
       "      <td>2019</td>\n",
       "      <td>64999</td>\n",
       "      <td>Semi-Auto</td>\n",
       "      <td>119</td>\n",
       "      <td>145</td>\n",
       "      <td>40.9</td>\n",
       "      <td>3.0</td>\n",
       "    </tr>\n",
       "  </tbody>\n",
       "</table>\n",
       "</div>"
      ],
      "text/plain": [
       "      year  price transmission  mileage  tax   mpg  engineSize\n",
       "6177  2019  65990    Semi-Auto     5076  150  30.4         3.0\n",
       "5779  2020  65990    Semi-Auto      999  145  28.0         4.0\n",
       "3191  2020  65980    Semi-Auto     3999  145  28.0         4.0\n",
       "4727  2019  65000    Semi-Auto     3398  145  27.2         4.0\n",
       "8814  2019  64999    Semi-Auto      119  145  40.9         3.0"
      ]
     },
     "execution_count": 72,
     "metadata": {},
     "output_type": "execute_result"
    }
   ],
   "source": [
    "dataFrame.head()"
   ]
  },
  {
   "cell_type": "code",
   "execution_count": 73,
   "id": "154d69e4",
   "metadata": {},
   "outputs": [],
   "source": [
    "dataFrame = dataFrame.drop(\"transmission\",axis=1)"
   ]
  },
  {
   "cell_type": "code",
   "execution_count": 74,
   "id": "4714e909",
   "metadata": {},
   "outputs": [
    {
     "data": {
      "text/html": [
       "<div>\n",
       "<style scoped>\n",
       "    .dataframe tbody tr th:only-of-type {\n",
       "        vertical-align: middle;\n",
       "    }\n",
       "\n",
       "    .dataframe tbody tr th {\n",
       "        vertical-align: top;\n",
       "    }\n",
       "\n",
       "    .dataframe thead th {\n",
       "        text-align: right;\n",
       "    }\n",
       "</style>\n",
       "<table border=\"1\" class=\"dataframe\">\n",
       "  <thead>\n",
       "    <tr style=\"text-align: right;\">\n",
       "      <th></th>\n",
       "      <th>year</th>\n",
       "      <th>price</th>\n",
       "      <th>mileage</th>\n",
       "      <th>tax</th>\n",
       "      <th>mpg</th>\n",
       "      <th>engineSize</th>\n",
       "    </tr>\n",
       "  </thead>\n",
       "  <tbody>\n",
       "    <tr>\n",
       "      <th>6177</th>\n",
       "      <td>2019</td>\n",
       "      <td>65990</td>\n",
       "      <td>5076</td>\n",
       "      <td>150</td>\n",
       "      <td>30.4</td>\n",
       "      <td>3.0</td>\n",
       "    </tr>\n",
       "    <tr>\n",
       "      <th>5779</th>\n",
       "      <td>2020</td>\n",
       "      <td>65990</td>\n",
       "      <td>999</td>\n",
       "      <td>145</td>\n",
       "      <td>28.0</td>\n",
       "      <td>4.0</td>\n",
       "    </tr>\n",
       "    <tr>\n",
       "      <th>3191</th>\n",
       "      <td>2020</td>\n",
       "      <td>65980</td>\n",
       "      <td>3999</td>\n",
       "      <td>145</td>\n",
       "      <td>28.0</td>\n",
       "      <td>4.0</td>\n",
       "    </tr>\n",
       "    <tr>\n",
       "      <th>4727</th>\n",
       "      <td>2019</td>\n",
       "      <td>65000</td>\n",
       "      <td>3398</td>\n",
       "      <td>145</td>\n",
       "      <td>27.2</td>\n",
       "      <td>4.0</td>\n",
       "    </tr>\n",
       "    <tr>\n",
       "      <th>8814</th>\n",
       "      <td>2019</td>\n",
       "      <td>64999</td>\n",
       "      <td>119</td>\n",
       "      <td>145</td>\n",
       "      <td>40.9</td>\n",
       "      <td>3.0</td>\n",
       "    </tr>\n",
       "  </tbody>\n",
       "</table>\n",
       "</div>"
      ],
      "text/plain": [
       "      year  price  mileage  tax   mpg  engineSize\n",
       "6177  2019  65990     5076  150  30.4         3.0\n",
       "5779  2020  65990      999  145  28.0         4.0\n",
       "3191  2020  65980     3999  145  28.0         4.0\n",
       "4727  2019  65000     3398  145  27.2         4.0\n",
       "8814  2019  64999      119  145  40.9         3.0"
      ]
     },
     "execution_count": 74,
     "metadata": {},
     "output_type": "execute_result"
    }
   ],
   "source": [
    "dataFrame.head() "
   ]
  },
  {
   "cell_type": "markdown",
   "id": "cffbbcc1",
   "metadata": {},
   "source": [
    "### gereksiz veriler tamamen temizlendi"
   ]
  },
  {
   "cell_type": "code",
   "execution_count": 116,
   "id": "0c666b49",
   "metadata": {},
   "outputs": [],
   "source": [
    "y = dataFrame[\"price\"].values\n",
    "x = dataFrame.drop(\"price\", axis=1).values"
   ]
  },
  {
   "cell_type": "code",
   "execution_count": 117,
   "id": "2202017a",
   "metadata": {},
   "outputs": [
    {
     "data": {
      "text/plain": [
       "array([65990, 65990, 65980, ...,  1490,  1350,   650], dtype=int64)"
      ]
     },
     "execution_count": 117,
     "metadata": {},
     "output_type": "execute_result"
    }
   ],
   "source": [
    "y"
   ]
  },
  {
   "cell_type": "code",
   "execution_count": 118,
   "id": "89f29885",
   "metadata": {},
   "outputs": [
    {
     "data": {
      "text/plain": [
       "array([[2.01900e+03, 5.07600e+03, 1.50000e+02, 3.04000e+01, 3.00000e+00],\n",
       "       [2.02000e+03, 9.99000e+02, 1.45000e+02, 2.80000e+01, 4.00000e+00],\n",
       "       [2.02000e+03, 3.99900e+03, 1.45000e+02, 2.80000e+01, 4.00000e+00],\n",
       "       ...,\n",
       "       [2.00000e+03, 8.70000e+04, 2.65000e+02, 2.72000e+01, 3.20000e+00],\n",
       "       [2.01000e+03, 1.16126e+05, 1.45000e+02, 5.43000e+01, 2.00000e+00],\n",
       "       [2.00300e+03, 1.09090e+05, 2.35000e+02, 4.00000e+01, 1.40000e+00]])"
      ]
     },
     "execution_count": 118,
     "metadata": {},
     "output_type": "execute_result"
    }
   ],
   "source": [
    "x"
   ]
  },
  {
   "cell_type": "code",
   "execution_count": 119,
   "id": "ace77c9e",
   "metadata": {},
   "outputs": [],
   "source": [
    "from sklearn.model_selection import train_test_split"
   ]
  },
  {
   "cell_type": "code",
   "execution_count": 120,
   "id": "75d6db82",
   "metadata": {},
   "outputs": [],
   "source": [
    "x_train, x_test, y_train, y_test = train_test_split(x,y,test_size=0.3,random_state=10)"
   ]
  },
  {
   "cell_type": "code",
   "execution_count": 121,
   "id": "7fc5fd21",
   "metadata": {},
   "outputs": [
    {
     "data": {
      "text/plain": [
       "9090"
      ]
     },
     "execution_count": 121,
     "metadata": {},
     "output_type": "execute_result"
    }
   ],
   "source": [
    "len(x_train)"
   ]
  },
  {
   "cell_type": "code",
   "execution_count": 123,
   "id": "5ba09f37",
   "metadata": {},
   "outputs": [
    {
     "data": {
      "text/plain": [
       "3897"
      ]
     },
     "execution_count": 123,
     "metadata": {},
     "output_type": "execute_result"
    }
   ],
   "source": [
    "len(x_test)"
   ]
  },
  {
   "cell_type": "code",
   "execution_count": 124,
   "id": "7dc64e59",
   "metadata": {},
   "outputs": [],
   "source": [
    "from sklearn.preprocessing import MinMaxScaler"
   ]
  },
  {
   "cell_type": "code",
   "execution_count": 125,
   "id": "4ae424d2",
   "metadata": {},
   "outputs": [],
   "source": [
    "scaler = MinMaxScaler()"
   ]
  },
  {
   "cell_type": "code",
   "execution_count": 126,
   "id": "324d140b",
   "metadata": {},
   "outputs": [],
   "source": [
    "x_train = scaler.fit_transform(x_train)"
   ]
  },
  {
   "cell_type": "code",
   "execution_count": 127,
   "id": "bb4317a7",
   "metadata": {},
   "outputs": [],
   "source": [
    "x_test = scaler.transform(x_test)"
   ]
  },
  {
   "cell_type": "code",
   "execution_count": 128,
   "id": "556e85ba",
   "metadata": {},
   "outputs": [],
   "source": [
    "from tensorflow.keras.models import Sequential\n",
    "from tensorflow.keras.layers import Dense"
   ]
  },
  {
   "cell_type": "code",
   "execution_count": 129,
   "id": "53e30879",
   "metadata": {},
   "outputs": [
    {
     "data": {
      "text/plain": [
       "(9090, 5)"
      ]
     },
     "execution_count": 129,
     "metadata": {},
     "output_type": "execute_result"
    }
   ],
   "source": [
    "x_train.shape"
   ]
  },
  {
   "cell_type": "code",
   "execution_count": 130,
   "id": "ebb2c015",
   "metadata": {},
   "outputs": [],
   "source": [
    "model = Sequential()\n",
    "\n",
    "model.add(Dense(12,activation=\"relu\"))\n",
    "model.add(Dense(12,activation=\"relu\"))\n",
    "model.add(Dense(12,activation=\"relu\"))\n",
    "model.add(Dense(12,activation=\"relu\"))\n",
    "\n",
    "model.add(Dense(1))\n",
    "\n",
    "model.compile(optimizer=\"adam\",loss=\"mse\")\n"
   ]
  },
  {
   "cell_type": "code",
   "execution_count": 131,
   "id": "35a6c7b7",
   "metadata": {},
   "outputs": [
    {
     "name": "stdout",
     "output_type": "stream",
     "text": [
      "Epoch 1/275\n",
      "37/37 [==============================] - 2s 19ms/step - loss: 672133824.0000 - val_loss: 688076032.0000\n",
      "Epoch 2/275\n",
      "37/37 [==============================] - 0s 9ms/step - loss: 672074240.0000 - val_loss: 687980608.0000\n",
      "Epoch 3/275\n",
      "37/37 [==============================] - 0s 9ms/step - loss: 671900928.0000 - val_loss: 687673280.0000\n",
      "Epoch 4/275\n",
      "37/37 [==============================] - 0s 10ms/step - loss: 671356800.0000 - val_loss: 686759936.0000\n",
      "Epoch 5/275\n",
      "37/37 [==============================] - 0s 9ms/step - loss: 669870848.0000 - val_loss: 684386304.0000\n",
      "Epoch 6/275\n",
      "37/37 [==============================] - 0s 11ms/step - loss: 666258368.0000 - val_loss: 678983360.0000\n",
      "Epoch 7/275\n",
      "37/37 [==============================] - 1s 13ms/step - loss: 658606208.0000 - val_loss: 668174976.0000\n",
      "Epoch 8/275\n",
      "37/37 [==============================] - 1s 21ms/step - loss: 644070720.0000 - val_loss: 648402560.0000\n",
      "Epoch 9/275\n",
      "37/37 [==============================] - 0s 10ms/step - loss: 618595008.0000 - val_loss: 615101824.0000\n",
      "Epoch 10/275\n",
      "37/37 [==============================] - 0s 9ms/step - loss: 577658944.0000 - val_loss: 564020480.0000\n",
      "Epoch 11/275\n",
      "37/37 [==============================] - 0s 8ms/step - loss: 517837920.0000 - val_loss: 492504416.0000\n",
      "Epoch 12/275\n",
      "37/37 [==============================] - 0s 11ms/step - loss: 438195456.0000 - val_loss: 402615072.0000\n",
      "Epoch 13/275\n",
      "37/37 [==============================] - 0s 9ms/step - loss: 344216288.0000 - val_loss: 302942048.0000\n",
      "Epoch 14/275\n",
      "37/37 [==============================] - 0s 8ms/step - loss: 248374368.0000 - val_loss: 210210144.0000\n",
      "Epoch 15/275\n",
      "37/37 [==============================] - 0s 9ms/step - loss: 168088672.0000 - val_loss: 141045456.0000\n",
      "Epoch 16/275\n",
      "37/37 [==============================] - 0s 9ms/step - loss: 116631080.0000 - val_loss: 104681576.0000\n",
      "Epoch 17/275\n",
      "37/37 [==============================] - 0s 8ms/step - loss: 94464224.0000 - val_loss: 92110856.0000\n",
      "Epoch 18/275\n",
      "37/37 [==============================] - 0s 8ms/step - loss: 88310912.0000 - val_loss: 88749448.0000\n",
      "Epoch 19/275\n",
      "37/37 [==============================] - 0s 8ms/step - loss: 86544728.0000 - val_loss: 87439816.0000\n",
      "Epoch 20/275\n",
      "37/37 [==============================] - 0s 8ms/step - loss: 85568808.0000 - val_loss: 86468048.0000\n",
      "Epoch 21/275\n",
      "37/37 [==============================] - 0s 8ms/step - loss: 84675520.0000 - val_loss: 85563272.0000\n",
      "Epoch 22/275\n",
      "37/37 [==============================] - 0s 8ms/step - loss: 83782872.0000 - val_loss: 84664560.0000\n",
      "Epoch 23/275\n",
      "37/37 [==============================] - 0s 8ms/step - loss: 82902976.0000 - val_loss: 83794656.0000\n",
      "Epoch 24/275\n",
      "37/37 [==============================] - 0s 9ms/step - loss: 82022296.0000 - val_loss: 82935112.0000\n",
      "Epoch 25/275\n",
      "37/37 [==============================] - 0s 10ms/step - loss: 81149760.0000 - val_loss: 82048096.0000\n",
      "Epoch 26/275\n",
      "37/37 [==============================] - 0s 11ms/step - loss: 80269160.0000 - val_loss: 81169464.0000\n",
      "Epoch 27/275\n",
      "37/37 [==============================] - 0s 9ms/step - loss: 79383496.0000 - val_loss: 80277480.0000\n",
      "Epoch 28/275\n",
      "37/37 [==============================] - 0s 8ms/step - loss: 78486728.0000 - val_loss: 79398336.0000\n",
      "Epoch 29/275\n",
      "37/37 [==============================] - 0s 9ms/step - loss: 77583392.0000 - val_loss: 78494088.0000\n",
      "Epoch 30/275\n",
      "37/37 [==============================] - 0s 10ms/step - loss: 76690912.0000 - val_loss: 77583528.0000\n",
      "Epoch 31/275\n",
      "37/37 [==============================] - 0s 8ms/step - loss: 75769192.0000 - val_loss: 76661488.0000\n",
      "Epoch 32/275\n",
      "37/37 [==============================] - 0s 8ms/step - loss: 74851416.0000 - val_loss: 75762920.0000\n",
      "Epoch 33/275\n",
      "37/37 [==============================] - 0s 8ms/step - loss: 73904352.0000 - val_loss: 74811128.0000\n",
      "Epoch 34/275\n",
      "37/37 [==============================] - 0s 11ms/step - loss: 72970432.0000 - val_loss: 73910288.0000\n",
      "Epoch 35/275\n",
      "37/37 [==============================] - 0s 8ms/step - loss: 72020672.0000 - val_loss: 72919016.0000\n",
      "Epoch 36/275\n",
      "37/37 [==============================] - 0s 8ms/step - loss: 71058176.0000 - val_loss: 72008432.0000\n",
      "Epoch 37/275\n",
      "37/37 [==============================] - 0s 10ms/step - loss: 70091632.0000 - val_loss: 71012400.0000\n",
      "Epoch 38/275\n",
      "37/37 [==============================] - 0s 9ms/step - loss: 69115872.0000 - val_loss: 70040344.0000\n",
      "Epoch 39/275\n",
      "37/37 [==============================] - 0s 8ms/step - loss: 68119456.0000 - val_loss: 69062552.0000\n",
      "Epoch 40/275\n",
      "37/37 [==============================] - 0s 8ms/step - loss: 67126248.0000 - val_loss: 68061248.0000\n",
      "Epoch 41/275\n",
      "37/37 [==============================] - 0s 9ms/step - loss: 66129528.0000 - val_loss: 67053004.0000\n",
      "Epoch 42/275\n",
      "37/37 [==============================] - 0s 8ms/step - loss: 65107760.0000 - val_loss: 66052072.0000\n",
      "Epoch 43/275\n",
      "37/37 [==============================] - 0s 8ms/step - loss: 64095548.0000 - val_loss: 65039468.0000\n",
      "Epoch 44/275\n",
      "37/37 [==============================] - 0s 8ms/step - loss: 63057204.0000 - val_loss: 64015408.0000\n",
      "Epoch 45/275\n",
      "37/37 [==============================] - 0s 8ms/step - loss: 62022996.0000 - val_loss: 62970988.0000\n",
      "Epoch 46/275\n",
      "37/37 [==============================] - 0s 9ms/step - loss: 60980896.0000 - val_loss: 61933288.0000\n",
      "Epoch 47/275\n",
      "37/37 [==============================] - 0s 8ms/step - loss: 59938244.0000 - val_loss: 60911376.0000\n",
      "Epoch 48/275\n",
      "37/37 [==============================] - 0s 8ms/step - loss: 58889404.0000 - val_loss: 59861932.0000\n",
      "Epoch 49/275\n",
      "37/37 [==============================] - 0s 11ms/step - loss: 57833424.0000 - val_loss: 58799308.0000\n",
      "Epoch 50/275\n",
      "37/37 [==============================] - 0s 9ms/step - loss: 56750764.0000 - val_loss: 57715772.0000\n",
      "Epoch 51/275\n",
      "37/37 [==============================] - 0s 11ms/step - loss: 55693412.0000 - val_loss: 56610696.0000\n",
      "Epoch 52/275\n",
      "37/37 [==============================] - 1s 15ms/step - loss: 54590104.0000 - val_loss: 55567064.0000\n",
      "Epoch 53/275\n",
      "37/37 [==============================] - 1s 21ms/step - loss: 53503152.0000 - val_loss: 54470048.0000\n",
      "Epoch 54/275\n",
      "37/37 [==============================] - 0s 13ms/step - loss: 52421792.0000 - val_loss: 53363748.0000\n",
      "Epoch 55/275\n",
      "37/37 [==============================] - 0s 12ms/step - loss: 51327916.0000 - val_loss: 52275844.0000\n",
      "Epoch 56/275\n",
      "37/37 [==============================] - 0s 11ms/step - loss: 50240880.0000 - val_loss: 51196472.0000\n",
      "Epoch 57/275\n",
      "37/37 [==============================] - 0s 10ms/step - loss: 49156472.0000 - val_loss: 50090124.0000\n",
      "Epoch 58/275\n",
      "37/37 [==============================] - 0s 8ms/step - loss: 48070396.0000 - val_loss: 48999124.0000\n",
      "Epoch 59/275\n",
      "37/37 [==============================] - 0s 6ms/step - loss: 46998904.0000 - val_loss: 47918948.0000\n",
      "Epoch 60/275\n",
      "37/37 [==============================] - 0s 7ms/step - loss: 45913576.0000 - val_loss: 46837296.0000\n",
      "Epoch 61/275\n",
      "37/37 [==============================] - 0s 7ms/step - loss: 44859072.0000 - val_loss: 45771600.0000\n",
      "Epoch 62/275\n",
      "37/37 [==============================] - 0s 9ms/step - loss: 43812004.0000 - val_loss: 44717668.0000\n",
      "Epoch 63/275\n",
      "37/37 [==============================] - 0s 6ms/step - loss: 42794264.0000 - val_loss: 43689028.0000\n",
      "Epoch 64/275\n",
      "37/37 [==============================] - 0s 6ms/step - loss: 41789312.0000 - val_loss: 42656700.0000\n",
      "Epoch 65/275\n",
      "37/37 [==============================] - 0s 6ms/step - loss: 40792256.0000 - val_loss: 41665556.0000\n",
      "Epoch 66/275\n",
      "37/37 [==============================] - 0s 6ms/step - loss: 39831820.0000 - val_loss: 40682680.0000\n",
      "Epoch 67/275\n",
      "37/37 [==============================] - 0s 8ms/step - loss: 38886452.0000 - val_loss: 39741752.0000\n",
      "Epoch 68/275\n",
      "37/37 [==============================] - 0s 8ms/step - loss: 37994856.0000 - val_loss: 38838592.0000\n",
      "Epoch 69/275\n",
      "37/37 [==============================] - 0s 8ms/step - loss: 37111728.0000 - val_loss: 37937964.0000\n",
      "Epoch 70/275\n",
      "37/37 [==============================] - 0s 7ms/step - loss: 36284616.0000 - val_loss: 37084320.0000\n",
      "Epoch 71/275\n",
      "37/37 [==============================] - 0s 6ms/step - loss: 35484384.0000 - val_loss: 36266416.0000\n",
      "Epoch 72/275\n"
     ]
    },
    {
     "name": "stdout",
     "output_type": "stream",
     "text": [
      "37/37 [==============================] - 0s 10ms/step - loss: 34705988.0000 - val_loss: 35502644.0000\n",
      "Epoch 73/275\n",
      "37/37 [==============================] - 0s 11ms/step - loss: 33974956.0000 - val_loss: 34762448.0000\n",
      "Epoch 74/275\n",
      "37/37 [==============================] - 0s 11ms/step - loss: 33293106.0000 - val_loss: 34058404.0000\n",
      "Epoch 75/275\n",
      "37/37 [==============================] - 0s 8ms/step - loss: 32627562.0000 - val_loss: 33390300.0000\n",
      "Epoch 76/275\n",
      "37/37 [==============================] - 0s 8ms/step - loss: 32003738.0000 - val_loss: 32764804.0000\n",
      "Epoch 77/275\n",
      "37/37 [==============================] - 0s 8ms/step - loss: 31446170.0000 - val_loss: 32196794.0000\n",
      "Epoch 78/275\n",
      "37/37 [==============================] - 0s 8ms/step - loss: 30857882.0000 - val_loss: 31595204.0000\n",
      "Epoch 79/275\n",
      "37/37 [==============================] - 0s 8ms/step - loss: 30315494.0000 - val_loss: 31058428.0000\n",
      "Epoch 80/275\n",
      "37/37 [==============================] - 0s 8ms/step - loss: 29825274.0000 - val_loss: 30556984.0000\n",
      "Epoch 81/275\n",
      "37/37 [==============================] - 0s 8ms/step - loss: 29334538.0000 - val_loss: 30071420.0000\n",
      "Epoch 82/275\n",
      "37/37 [==============================] - 0s 8ms/step - loss: 28875156.0000 - val_loss: 29625980.0000\n",
      "Epoch 83/275\n",
      "37/37 [==============================] - 0s 8ms/step - loss: 28480744.0000 - val_loss: 29239318.0000\n",
      "Epoch 84/275\n",
      "37/37 [==============================] - 0s 8ms/step - loss: 28072208.0000 - val_loss: 28812446.0000\n",
      "Epoch 85/275\n",
      "37/37 [==============================] - 0s 8ms/step - loss: 27692144.0000 - val_loss: 28462376.0000\n",
      "Epoch 86/275\n",
      "37/37 [==============================] - 0s 8ms/step - loss: 27345548.0000 - val_loss: 28097416.0000\n",
      "Epoch 87/275\n",
      "37/37 [==============================] - 0s 8ms/step - loss: 27011118.0000 - val_loss: 27777774.0000\n",
      "Epoch 88/275\n",
      "37/37 [==============================] - 0s 8ms/step - loss: 26702112.0000 - val_loss: 27479950.0000\n",
      "Epoch 89/275\n",
      "37/37 [==============================] - 0s 8ms/step - loss: 26422948.0000 - val_loss: 27205814.0000\n",
      "Epoch 90/275\n",
      "37/37 [==============================] - 0s 8ms/step - loss: 26159134.0000 - val_loss: 26936708.0000\n",
      "Epoch 91/275\n",
      "37/37 [==============================] - 0s 8ms/step - loss: 25927208.0000 - val_loss: 26692958.0000\n",
      "Epoch 92/275\n",
      "37/37 [==============================] - 0s 8ms/step - loss: 25683662.0000 - val_loss: 26470044.0000\n",
      "Epoch 93/275\n",
      "37/37 [==============================] - 0s 8ms/step - loss: 25461416.0000 - val_loss: 26262332.0000\n",
      "Epoch 94/275\n",
      "37/37 [==============================] - 0s 8ms/step - loss: 25250822.0000 - val_loss: 26093896.0000\n",
      "Epoch 95/275\n",
      "37/37 [==============================] - 0s 8ms/step - loss: 25099190.0000 - val_loss: 25876126.0000\n",
      "Epoch 96/275\n",
      "37/37 [==============================] - 0s 8ms/step - loss: 24877358.0000 - val_loss: 25751094.0000\n",
      "Epoch 97/275\n",
      "37/37 [==============================] - 0s 8ms/step - loss: 24716650.0000 - val_loss: 25521110.0000\n",
      "Epoch 98/275\n",
      "37/37 [==============================] - 0s 8ms/step - loss: 24551190.0000 - val_loss: 25401464.0000\n",
      "Epoch 99/275\n",
      "37/37 [==============================] - 0s 8ms/step - loss: 24404832.0000 - val_loss: 25214972.0000\n",
      "Epoch 100/275\n",
      "37/37 [==============================] - 0s 8ms/step - loss: 24234476.0000 - val_loss: 25068828.0000\n",
      "Epoch 101/275\n",
      "37/37 [==============================] - 0s 8ms/step - loss: 24102724.0000 - val_loss: 24952406.0000\n",
      "Epoch 102/275\n",
      "37/37 [==============================] - 0s 9ms/step - loss: 23953370.0000 - val_loss: 24807958.0000\n",
      "Epoch 103/275\n",
      "37/37 [==============================] - 0s 8ms/step - loss: 23843026.0000 - val_loss: 24696738.0000\n",
      "Epoch 104/275\n",
      "37/37 [==============================] - 0s 8ms/step - loss: 23727250.0000 - val_loss: 24568332.0000\n",
      "Epoch 105/275\n",
      "37/37 [==============================] - 0s 9ms/step - loss: 23601948.0000 - val_loss: 24504162.0000\n",
      "Epoch 106/275\n",
      "37/37 [==============================] - 0s 8ms/step - loss: 23484016.0000 - val_loss: 24346730.0000\n",
      "Epoch 107/275\n",
      "37/37 [==============================] - 0s 8ms/step - loss: 23376536.0000 - val_loss: 24281700.0000\n",
      "Epoch 108/275\n",
      "37/37 [==============================] - 0s 8ms/step - loss: 23275390.0000 - val_loss: 24147060.0000\n",
      "Epoch 109/275\n",
      "37/37 [==============================] - 0s 8ms/step - loss: 23187902.0000 - val_loss: 24046638.0000\n",
      "Epoch 110/275\n",
      "37/37 [==============================] - 0s 8ms/step - loss: 23066598.0000 - val_loss: 23976350.0000\n",
      "Epoch 111/275\n",
      "37/37 [==============================] - 0s 8ms/step - loss: 22978096.0000 - val_loss: 23865680.0000\n",
      "Epoch 112/275\n",
      "37/37 [==============================] - 0s 8ms/step - loss: 22889414.0000 - val_loss: 23785212.0000\n",
      "Epoch 113/275\n",
      "37/37 [==============================] - 0s 8ms/step - loss: 22791568.0000 - val_loss: 23699846.0000\n",
      "Epoch 114/275\n",
      "37/37 [==============================] - 0s 8ms/step - loss: 22729474.0000 - val_loss: 23645652.0000\n",
      "Epoch 115/275\n",
      "37/37 [==============================] - 0s 9ms/step - loss: 22625156.0000 - val_loss: 23532788.0000\n",
      "Epoch 116/275\n",
      "37/37 [==============================] - 0s 8ms/step - loss: 22528822.0000 - val_loss: 23451530.0000\n",
      "Epoch 117/275\n",
      "37/37 [==============================] - 0s 9ms/step - loss: 22441908.0000 - val_loss: 23402600.0000\n",
      "Epoch 118/275\n",
      "37/37 [==============================] - 0s 9ms/step - loss: 22355244.0000 - val_loss: 23295712.0000\n",
      "Epoch 119/275\n",
      "37/37 [==============================] - 0s 8ms/step - loss: 22258018.0000 - val_loss: 23205742.0000\n",
      "Epoch 120/275\n",
      "37/37 [==============================] - 0s 8ms/step - loss: 22147710.0000 - val_loss: 23116896.0000\n",
      "Epoch 121/275\n",
      "37/37 [==============================] - 0s 8ms/step - loss: 22042048.0000 - val_loss: 23104202.0000\n",
      "Epoch 122/275\n",
      "37/37 [==============================] - 0s 8ms/step - loss: 21949020.0000 - val_loss: 22959614.0000\n",
      "Epoch 123/275\n",
      "37/37 [==============================] - 0s 9ms/step - loss: 21833110.0000 - val_loss: 22832570.0000\n",
      "Epoch 124/275\n",
      "37/37 [==============================] - 0s 10ms/step - loss: 21729542.0000 - val_loss: 22744998.0000\n",
      "Epoch 125/275\n",
      "37/37 [==============================] - 0s 9ms/step - loss: 21628696.0000 - val_loss: 22673268.0000\n",
      "Epoch 126/275\n",
      "37/37 [==============================] - 0s 8ms/step - loss: 21555078.0000 - val_loss: 22650800.0000\n",
      "Epoch 127/275\n",
      "37/37 [==============================] - 0s 8ms/step - loss: 21464768.0000 - val_loss: 22504790.0000\n",
      "Epoch 128/275\n",
      "37/37 [==============================] - 0s 8ms/step - loss: 21366574.0000 - val_loss: 22429118.0000\n",
      "Epoch 129/275\n",
      "37/37 [==============================] - 0s 8ms/step - loss: 21344770.0000 - val_loss: 22382666.0000\n",
      "Epoch 130/275\n",
      "37/37 [==============================] - 0s 8ms/step - loss: 21211732.0000 - val_loss: 22309024.0000\n",
      "Epoch 131/275\n",
      "37/37 [==============================] - 0s 8ms/step - loss: 21139972.0000 - val_loss: 22253718.0000\n",
      "Epoch 132/275\n",
      "37/37 [==============================] - 0s 9ms/step - loss: 21061562.0000 - val_loss: 22258130.0000\n",
      "Epoch 133/275\n",
      "37/37 [==============================] - 0s 10ms/step - loss: 21008696.0000 - val_loss: 22225494.0000\n",
      "Epoch 134/275\n",
      "37/37 [==============================] - 0s 10ms/step - loss: 20958392.0000 - val_loss: 22120774.0000\n",
      "Epoch 135/275\n",
      "37/37 [==============================] - 0s 9ms/step - loss: 20906914.0000 - val_loss: 22091878.0000\n",
      "Epoch 136/275\n",
      "37/37 [==============================] - 0s 9ms/step - loss: 20842026.0000 - val_loss: 22057342.0000\n",
      "Epoch 137/275\n",
      "37/37 [==============================] - 0s 8ms/step - loss: 20814916.0000 - val_loss: 22062400.0000\n",
      "Epoch 138/275\n",
      "37/37 [==============================] - 0s 8ms/step - loss: 20773378.0000 - val_loss: 22007306.0000\n",
      "Epoch 139/275\n",
      "37/37 [==============================] - 0s 9ms/step - loss: 20742526.0000 - val_loss: 21966850.0000\n",
      "Epoch 140/275\n",
      "37/37 [==============================] - 0s 8ms/step - loss: 20708302.0000 - val_loss: 21957884.0000\n",
      "Epoch 141/275\n",
      "37/37 [==============================] - 0s 8ms/step - loss: 20664612.0000 - val_loss: 21931538.0000\n",
      "Epoch 142/275\n",
      "37/37 [==============================] - 0s 8ms/step - loss: 20633408.0000 - val_loss: 21895860.0000\n",
      "Epoch 143/275\n"
     ]
    },
    {
     "name": "stdout",
     "output_type": "stream",
     "text": [
      "37/37 [==============================] - 0s 8ms/step - loss: 20602578.0000 - val_loss: 21926600.0000\n",
      "Epoch 144/275\n",
      "37/37 [==============================] - 0s 8ms/step - loss: 20588684.0000 - val_loss: 21873020.0000\n",
      "Epoch 145/275\n",
      "37/37 [==============================] - 0s 8ms/step - loss: 20553026.0000 - val_loss: 21852998.0000\n",
      "Epoch 146/275\n",
      "37/37 [==============================] - 0s 8ms/step - loss: 20537258.0000 - val_loss: 21830242.0000\n",
      "Epoch 147/275\n",
      "37/37 [==============================] - 0s 11ms/step - loss: 20512600.0000 - val_loss: 21863054.0000\n",
      "Epoch 148/275\n",
      "37/37 [==============================] - 1s 14ms/step - loss: 20526830.0000 - val_loss: 21792488.0000\n",
      "Epoch 149/275\n",
      "37/37 [==============================] - 0s 12ms/step - loss: 20465224.0000 - val_loss: 21787152.0000\n",
      "Epoch 150/275\n",
      "37/37 [==============================] - 1s 13ms/step - loss: 20438348.0000 - val_loss: 21755210.0000\n",
      "Epoch 151/275\n",
      "37/37 [==============================] - 0s 11ms/step - loss: 20424478.0000 - val_loss: 21741516.0000\n",
      "Epoch 152/275\n",
      "37/37 [==============================] - 0s 9ms/step - loss: 20400680.0000 - val_loss: 21784088.0000\n",
      "Epoch 153/275\n",
      "37/37 [==============================] - 0s 7ms/step - loss: 20384230.0000 - val_loss: 21708300.0000\n",
      "Epoch 154/275\n",
      "37/37 [==============================] - 0s 7ms/step - loss: 20367832.0000 - val_loss: 21718876.0000\n",
      "Epoch 155/275\n",
      "37/37 [==============================] - 0s 8ms/step - loss: 20351680.0000 - val_loss: 21730544.0000\n",
      "Epoch 156/275\n",
      "37/37 [==============================] - 0s 7ms/step - loss: 20348402.0000 - val_loss: 21683688.0000\n",
      "Epoch 157/275\n",
      "37/37 [==============================] - 0s 7ms/step - loss: 20330582.0000 - val_loss: 21654242.0000\n",
      "Epoch 158/275\n",
      "37/37 [==============================] - 0s 7ms/step - loss: 20299454.0000 - val_loss: 21674218.0000\n",
      "Epoch 159/275\n",
      "37/37 [==============================] - 0s 6ms/step - loss: 20279570.0000 - val_loss: 21629716.0000\n",
      "Epoch 160/275\n",
      "37/37 [==============================] - 0s 6ms/step - loss: 20291746.0000 - val_loss: 21617254.0000\n",
      "Epoch 161/275\n",
      "37/37 [==============================] - 0s 6ms/step - loss: 20252722.0000 - val_loss: 21607726.0000\n",
      "Epoch 162/275\n",
      "37/37 [==============================] - 0s 8ms/step - loss: 20247886.0000 - val_loss: 21601976.0000\n",
      "Epoch 163/275\n",
      "37/37 [==============================] - 0s 6ms/step - loss: 20226276.0000 - val_loss: 21582572.0000\n",
      "Epoch 164/275\n",
      "37/37 [==============================] - 0s 9ms/step - loss: 20218668.0000 - val_loss: 21562766.0000\n",
      "Epoch 165/275\n",
      "37/37 [==============================] - 0s 10ms/step - loss: 20189860.0000 - val_loss: 21556406.0000\n",
      "Epoch 166/275\n",
      "37/37 [==============================] - 0s 11ms/step - loss: 20184346.0000 - val_loss: 21618294.0000\n",
      "Epoch 167/275\n",
      "37/37 [==============================] - 0s 9ms/step - loss: 20211188.0000 - val_loss: 21563986.0000\n",
      "Epoch 168/275\n",
      "37/37 [==============================] - 0s 9ms/step - loss: 20184606.0000 - val_loss: 21526978.0000\n",
      "Epoch 169/275\n",
      "37/37 [==============================] - 0s 9ms/step - loss: 20157610.0000 - val_loss: 21508050.0000\n",
      "Epoch 170/275\n",
      "37/37 [==============================] - 0s 11ms/step - loss: 20121314.0000 - val_loss: 21560126.0000\n",
      "Epoch 171/275\n",
      "37/37 [==============================] - 0s 11ms/step - loss: 20109270.0000 - val_loss: 21491268.0000\n",
      "Epoch 172/275\n",
      "37/37 [==============================] - 0s 9ms/step - loss: 20096176.0000 - val_loss: 21490750.0000\n",
      "Epoch 173/275\n",
      "37/37 [==============================] - 0s 9ms/step - loss: 20083254.0000 - val_loss: 21458884.0000\n",
      "Epoch 174/275\n",
      "37/37 [==============================] - 0s 12ms/step - loss: 20068974.0000 - val_loss: 21440822.0000\n",
      "Epoch 175/275\n",
      "37/37 [==============================] - 0s 10ms/step - loss: 20050426.0000 - val_loss: 21432942.0000\n",
      "Epoch 176/275\n",
      "37/37 [==============================] - 0s 9ms/step - loss: 20035866.0000 - val_loss: 21443046.0000\n",
      "Epoch 177/275\n",
      "37/37 [==============================] - 0s 9ms/step - loss: 20024284.0000 - val_loss: 21447402.0000\n",
      "Epoch 178/275\n",
      "37/37 [==============================] - 0s 10ms/step - loss: 20026938.0000 - val_loss: 21386726.0000\n",
      "Epoch 179/275\n",
      "37/37 [==============================] - 0s 11ms/step - loss: 19988044.0000 - val_loss: 21389534.0000\n",
      "Epoch 180/275\n",
      "37/37 [==============================] - 0s 10ms/step - loss: 19969342.0000 - val_loss: 21381950.0000\n",
      "Epoch 181/275\n",
      "37/37 [==============================] - 0s 11ms/step - loss: 19986064.0000 - val_loss: 21374746.0000\n",
      "Epoch 182/275\n",
      "37/37 [==============================] - 0s 9ms/step - loss: 19988272.0000 - val_loss: 21354084.0000\n",
      "Epoch 183/275\n",
      "37/37 [==============================] - 0s 12ms/step - loss: 19930174.0000 - val_loss: 21402754.0000\n",
      "Epoch 184/275\n",
      "37/37 [==============================] - 1s 14ms/step - loss: 19937626.0000 - val_loss: 21385150.0000\n",
      "Epoch 185/275\n",
      "37/37 [==============================] - 0s 12ms/step - loss: 19904922.0000 - val_loss: 21325246.0000\n",
      "Epoch 186/275\n",
      "37/37 [==============================] - 0s 9ms/step - loss: 19904526.0000 - val_loss: 21301850.0000\n",
      "Epoch 187/275\n",
      "37/37 [==============================] - 0s 10ms/step - loss: 19872816.0000 - val_loss: 21293918.0000\n",
      "Epoch 188/275\n",
      "37/37 [==============================] - 0s 11ms/step - loss: 19851768.0000 - val_loss: 21340048.0000\n",
      "Epoch 189/275\n",
      "37/37 [==============================] - 0s 10ms/step - loss: 19883724.0000 - val_loss: 21268844.0000\n",
      "Epoch 190/275\n",
      "37/37 [==============================] - 0s 12ms/step - loss: 19836810.0000 - val_loss: 21258728.0000\n",
      "Epoch 191/275\n",
      "37/37 [==============================] - 0s 13ms/step - loss: 19852364.0000 - val_loss: 21348370.0000\n",
      "Epoch 192/275\n",
      "37/37 [==============================] - 0s 10ms/step - loss: 19809540.0000 - val_loss: 21409790.0000\n",
      "Epoch 193/275\n",
      "37/37 [==============================] - 0s 9ms/step - loss: 19848724.0000 - val_loss: 21235608.0000\n",
      "Epoch 194/275\n",
      "37/37 [==============================] - 0s 9ms/step - loss: 19807506.0000 - val_loss: 21225356.0000\n",
      "Epoch 195/275\n",
      "37/37 [==============================] - 0s 10ms/step - loss: 19781776.0000 - val_loss: 21205436.0000\n",
      "Epoch 196/275\n",
      "37/37 [==============================] - 0s 11ms/step - loss: 19762762.0000 - val_loss: 21232040.0000\n",
      "Epoch 197/275\n",
      "37/37 [==============================] - 0s 10ms/step - loss: 19813512.0000 - val_loss: 21200062.0000\n",
      "Epoch 198/275\n",
      "37/37 [==============================] - 0s 10ms/step - loss: 19737458.0000 - val_loss: 21168428.0000\n",
      "Epoch 199/275\n",
      "37/37 [==============================] - 0s 10ms/step - loss: 19711438.0000 - val_loss: 21168320.0000\n",
      "Epoch 200/275\n",
      "37/37 [==============================] - 0s 9ms/step - loss: 19696556.0000 - val_loss: 21163848.0000\n",
      "Epoch 201/275\n",
      "37/37 [==============================] - 0s 10ms/step - loss: 19690818.0000 - val_loss: 21145164.0000\n",
      "Epoch 202/275\n",
      "37/37 [==============================] - 0s 10ms/step - loss: 19671038.0000 - val_loss: 21174350.0000\n",
      "Epoch 203/275\n",
      "37/37 [==============================] - 0s 11ms/step - loss: 19692666.0000 - val_loss: 21129846.0000\n",
      "Epoch 204/275\n",
      "37/37 [==============================] - 0s 10ms/step - loss: 19705988.0000 - val_loss: 21122928.0000\n",
      "Epoch 205/275\n",
      "37/37 [==============================] - 0s 10ms/step - loss: 19646580.0000 - val_loss: 21126454.0000\n",
      "Epoch 206/275\n",
      "37/37 [==============================] - 0s 10ms/step - loss: 19641732.0000 - val_loss: 21092864.0000\n",
      "Epoch 207/275\n",
      "37/37 [==============================] - 0s 10ms/step - loss: 19639396.0000 - val_loss: 21095466.0000\n",
      "Epoch 208/275\n",
      "37/37 [==============================] - 0s 11ms/step - loss: 19642820.0000 - val_loss: 21101610.0000\n",
      "Epoch 209/275\n",
      "37/37 [==============================] - 0s 10ms/step - loss: 19601314.0000 - val_loss: 21068976.0000\n",
      "Epoch 210/275\n",
      "37/37 [==============================] - 0s 10ms/step - loss: 19599634.0000 - val_loss: 21085468.0000\n",
      "Epoch 211/275\n",
      "37/37 [==============================] - 0s 10ms/step - loss: 19596514.0000 - val_loss: 21070686.0000\n",
      "Epoch 212/275\n",
      "37/37 [==============================] - 0s 10ms/step - loss: 19587500.0000 - val_loss: 21064036.0000\n",
      "Epoch 213/275\n",
      "37/37 [==============================] - 0s 10ms/step - loss: 19582406.0000 - val_loss: 21041784.0000\n"
     ]
    },
    {
     "name": "stdout",
     "output_type": "stream",
     "text": [
      "Epoch 214/275\n",
      "37/37 [==============================] - 0s 9ms/step - loss: 19557412.0000 - val_loss: 21032006.0000\n",
      "Epoch 215/275\n",
      "37/37 [==============================] - 0s 8ms/step - loss: 19546518.0000 - val_loss: 21023748.0000\n",
      "Epoch 216/275\n",
      "37/37 [==============================] - 0s 13ms/step - loss: 19557668.0000 - val_loss: 21086836.0000\n",
      "Epoch 217/275\n",
      "37/37 [==============================] - 0s 9ms/step - loss: 19510986.0000 - val_loss: 20993806.0000\n",
      "Epoch 218/275\n",
      "37/37 [==============================] - 0s 9ms/step - loss: 19545358.0000 - val_loss: 20993494.0000\n",
      "Epoch 219/275\n",
      "37/37 [==============================] - 0s 9ms/step - loss: 19515162.0000 - val_loss: 21020246.0000\n",
      "Epoch 220/275\n",
      "37/37 [==============================] - 0s 8ms/step - loss: 19523930.0000 - val_loss: 20980922.0000\n",
      "Epoch 221/275\n",
      "37/37 [==============================] - 0s 8ms/step - loss: 19477350.0000 - val_loss: 20987716.0000\n",
      "Epoch 222/275\n",
      "37/37 [==============================] - 0s 9ms/step - loss: 19485424.0000 - val_loss: 20972814.0000\n",
      "Epoch 223/275\n",
      "37/37 [==============================] - 0s 8ms/step - loss: 19469342.0000 - val_loss: 20982946.0000\n",
      "Epoch 224/275\n",
      "37/37 [==============================] - 0s 8ms/step - loss: 19495040.0000 - val_loss: 20941782.0000\n",
      "Epoch 225/275\n",
      "37/37 [==============================] - 0s 10ms/step - loss: 19481358.0000 - val_loss: 21025202.0000\n",
      "Epoch 226/275\n",
      "37/37 [==============================] - 0s 9ms/step - loss: 19464928.0000 - val_loss: 20946290.0000\n",
      "Epoch 227/275\n",
      "37/37 [==============================] - 0s 10ms/step - loss: 19427498.0000 - val_loss: 20942140.0000\n",
      "Epoch 228/275\n",
      "37/37 [==============================] - 0s 10ms/step - loss: 19417756.0000 - val_loss: 20964354.0000\n",
      "Epoch 229/275\n",
      "37/37 [==============================] - 0s 9ms/step - loss: 19430738.0000 - val_loss: 20904212.0000\n",
      "Epoch 230/275\n",
      "37/37 [==============================] - 0s 9ms/step - loss: 19402806.0000 - val_loss: 20906788.0000\n",
      "Epoch 231/275\n",
      "37/37 [==============================] - 0s 9ms/step - loss: 19395700.0000 - val_loss: 20996670.0000\n",
      "Epoch 232/275\n",
      "37/37 [==============================] - 0s 9ms/step - loss: 19393302.0000 - val_loss: 20940226.0000\n",
      "Epoch 233/275\n",
      "37/37 [==============================] - 0s 9ms/step - loss: 19385474.0000 - val_loss: 20874036.0000\n",
      "Epoch 234/275\n",
      "37/37 [==============================] - 0s 9ms/step - loss: 19383128.0000 - val_loss: 20878276.0000\n",
      "Epoch 235/275\n",
      "37/37 [==============================] - 0s 9ms/step - loss: 19405008.0000 - val_loss: 20911306.0000\n",
      "Epoch 236/275\n",
      "37/37 [==============================] - 0s 12ms/step - loss: 19349890.0000 - val_loss: 20826006.0000\n",
      "Epoch 237/275\n",
      "37/37 [==============================] - 0s 10ms/step - loss: 19338512.0000 - val_loss: 20836744.0000\n",
      "Epoch 238/275\n",
      "37/37 [==============================] - 0s 9ms/step - loss: 19336820.0000 - val_loss: 20857902.0000\n",
      "Epoch 239/275\n",
      "37/37 [==============================] - 0s 12ms/step - loss: 19355908.0000 - val_loss: 20800066.0000\n",
      "Epoch 240/275\n",
      "37/37 [==============================] - 0s 8ms/step - loss: 19322926.0000 - val_loss: 20894630.0000\n",
      "Epoch 241/275\n",
      "37/37 [==============================] - 0s 10ms/step - loss: 19314186.0000 - val_loss: 20787198.0000\n",
      "Epoch 242/275\n",
      "37/37 [==============================] - 0s 10ms/step - loss: 19290138.0000 - val_loss: 20800022.0000\n",
      "Epoch 243/275\n",
      "37/37 [==============================] - 0s 9ms/step - loss: 19311746.0000 - val_loss: 20760430.0000\n",
      "Epoch 244/275\n",
      "37/37 [==============================] - 0s 9ms/step - loss: 19271662.0000 - val_loss: 20756562.0000\n",
      "Epoch 245/275\n",
      "37/37 [==============================] - 0s 11ms/step - loss: 19274102.0000 - val_loss: 20744492.0000\n",
      "Epoch 246/275\n",
      "37/37 [==============================] - 0s 11ms/step - loss: 19265206.0000 - val_loss: 20750948.0000\n",
      "Epoch 247/275\n",
      "37/37 [==============================] - 0s 9ms/step - loss: 19263260.0000 - val_loss: 20728296.0000\n",
      "Epoch 248/275\n",
      "37/37 [==============================] - 0s 10ms/step - loss: 19244758.0000 - val_loss: 20722074.0000\n",
      "Epoch 249/275\n",
      "37/37 [==============================] - 0s 11ms/step - loss: 19235690.0000 - val_loss: 20715190.0000\n",
      "Epoch 250/275\n",
      "37/37 [==============================] - 0s 10ms/step - loss: 19227812.0000 - val_loss: 20701388.0000\n",
      "Epoch 251/275\n",
      "37/37 [==============================] - 0s 10ms/step - loss: 19211430.0000 - val_loss: 20737268.0000\n",
      "Epoch 252/275\n",
      "37/37 [==============================] - 0s 11ms/step - loss: 19212314.0000 - val_loss: 20779520.0000\n",
      "Epoch 253/275\n",
      "37/37 [==============================] - 0s 11ms/step - loss: 19202270.0000 - val_loss: 20719108.0000\n",
      "Epoch 254/275\n",
      "37/37 [==============================] - 0s 12ms/step - loss: 19207544.0000 - val_loss: 20684440.0000\n",
      "Epoch 255/275\n",
      "37/37 [==============================] - 0s 10ms/step - loss: 19203118.0000 - val_loss: 20713112.0000\n",
      "Epoch 256/275\n",
      "37/37 [==============================] - 0s 9ms/step - loss: 19180278.0000 - val_loss: 20673932.0000\n",
      "Epoch 257/275\n",
      "37/37 [==============================] - 0s 10ms/step - loss: 19175754.0000 - val_loss: 20644662.0000\n",
      "Epoch 258/275\n",
      "37/37 [==============================] - 0s 12ms/step - loss: 19178760.0000 - val_loss: 20649834.0000\n",
      "Epoch 259/275\n",
      "37/37 [==============================] - 0s 10ms/step - loss: 19177076.0000 - val_loss: 20636298.0000\n",
      "Epoch 260/275\n",
      "37/37 [==============================] - 0s 10ms/step - loss: 19154906.0000 - val_loss: 20633904.0000\n",
      "Epoch 261/275\n",
      "37/37 [==============================] - 0s 9ms/step - loss: 19188224.0000 - val_loss: 20618706.0000\n",
      "Epoch 262/275\n",
      "37/37 [==============================] - 0s 12ms/step - loss: 19196996.0000 - val_loss: 20615966.0000\n",
      "Epoch 263/275\n",
      "37/37 [==============================] - 0s 9ms/step - loss: 19153654.0000 - val_loss: 20637714.0000\n",
      "Epoch 264/275\n",
      "37/37 [==============================] - 0s 9ms/step - loss: 19133936.0000 - val_loss: 20618186.0000\n",
      "Epoch 265/275\n",
      "37/37 [==============================] - 0s 10ms/step - loss: 19140940.0000 - val_loss: 20606346.0000\n",
      "Epoch 266/275\n",
      "37/37 [==============================] - 0s 10ms/step - loss: 19126054.0000 - val_loss: 20609506.0000\n",
      "Epoch 267/275\n",
      "37/37 [==============================] - 0s 10ms/step - loss: 19109132.0000 - val_loss: 20604900.0000\n",
      "Epoch 268/275\n",
      "37/37 [==============================] - 0s 11ms/step - loss: 19106176.0000 - val_loss: 20596570.0000\n",
      "Epoch 269/275\n",
      "37/37 [==============================] - 0s 10ms/step - loss: 19114414.0000 - val_loss: 20577202.0000\n",
      "Epoch 270/275\n",
      "37/37 [==============================] - 0s 9ms/step - loss: 19092258.0000 - val_loss: 20590324.0000\n",
      "Epoch 271/275\n",
      "37/37 [==============================] - 0s 11ms/step - loss: 19081832.0000 - val_loss: 20558544.0000\n",
      "Epoch 272/275\n",
      "37/37 [==============================] - 0s 10ms/step - loss: 19075926.0000 - val_loss: 20546648.0000\n",
      "Epoch 273/275\n",
      "37/37 [==============================] - 0s 11ms/step - loss: 19085906.0000 - val_loss: 20563718.0000\n",
      "Epoch 274/275\n",
      "37/37 [==============================] - 0s 10ms/step - loss: 19074354.0000 - val_loss: 20533044.0000\n",
      "Epoch 275/275\n",
      "37/37 [==============================] - 0s 10ms/step - loss: 19058892.0000 - val_loss: 20567146.0000\n"
     ]
    },
    {
     "data": {
      "text/plain": [
       "<keras.callbacks.History at 0x20043f28cd0>"
      ]
     },
     "execution_count": 131,
     "metadata": {},
     "output_type": "execute_result"
    }
   ],
   "source": [
    "model.fit(x=x_train, y=y_train,validation_data=(x_test,y_test),batch_size=250,epochs=275)"
   ]
  },
  {
   "cell_type": "code",
   "execution_count": 132,
   "id": "bece48d5",
   "metadata": {},
   "outputs": [],
   "source": [
    "kayipverisi = pd.DataFrame(model.history.history)"
   ]
  },
  {
   "cell_type": "code",
   "execution_count": 133,
   "id": "d561a1f3",
   "metadata": {},
   "outputs": [
    {
     "data": {
      "text/html": [
       "<div>\n",
       "<style scoped>\n",
       "    .dataframe tbody tr th:only-of-type {\n",
       "        vertical-align: middle;\n",
       "    }\n",
       "\n",
       "    .dataframe tbody tr th {\n",
       "        vertical-align: top;\n",
       "    }\n",
       "\n",
       "    .dataframe thead th {\n",
       "        text-align: right;\n",
       "    }\n",
       "</style>\n",
       "<table border=\"1\" class=\"dataframe\">\n",
       "  <thead>\n",
       "    <tr style=\"text-align: right;\">\n",
       "      <th></th>\n",
       "      <th>loss</th>\n",
       "      <th>val_loss</th>\n",
       "    </tr>\n",
       "  </thead>\n",
       "  <tbody>\n",
       "    <tr>\n",
       "      <th>0</th>\n",
       "      <td>672133824.0</td>\n",
       "      <td>688076032.0</td>\n",
       "    </tr>\n",
       "    <tr>\n",
       "      <th>1</th>\n",
       "      <td>672074240.0</td>\n",
       "      <td>687980608.0</td>\n",
       "    </tr>\n",
       "    <tr>\n",
       "      <th>2</th>\n",
       "      <td>671900928.0</td>\n",
       "      <td>687673280.0</td>\n",
       "    </tr>\n",
       "    <tr>\n",
       "      <th>3</th>\n",
       "      <td>671356800.0</td>\n",
       "      <td>686759936.0</td>\n",
       "    </tr>\n",
       "    <tr>\n",
       "      <th>4</th>\n",
       "      <td>669870848.0</td>\n",
       "      <td>684386304.0</td>\n",
       "    </tr>\n",
       "  </tbody>\n",
       "</table>\n",
       "</div>"
      ],
      "text/plain": [
       "          loss     val_loss\n",
       "0  672133824.0  688076032.0\n",
       "1  672074240.0  687980608.0\n",
       "2  671900928.0  687673280.0\n",
       "3  671356800.0  686759936.0\n",
       "4  669870848.0  684386304.0"
      ]
     },
     "execution_count": 133,
     "metadata": {},
     "output_type": "execute_result"
    }
   ],
   "source": [
    "kayipverisi.head()"
   ]
  },
  {
   "cell_type": "code",
   "execution_count": 134,
   "id": "26cc8641",
   "metadata": {},
   "outputs": [
    {
     "data": {
      "text/plain": [
       "<AxesSubplot:>"
      ]
     },
     "execution_count": 134,
     "metadata": {},
     "output_type": "execute_result"
    },
    {
     "data": {
      "image/png": "[encoded data removed]",
      "text/plain": [
       "<Figure size 432x288 with 1 Axes>"
      ]
     },
     "metadata": {
      "needs_background": "light"
     },
     "output_type": "display_data"
    }
   ],
   "source": [
    "kayipverisi.plot()"
   ]
  },
  {
   "cell_type": "code",
   "execution_count": 135,
   "id": "e318df4e",
   "metadata": {},
   "outputs": [],
   "source": [
    "from sklearn.metrics import mean_squared_error, mean_absolute_error"
   ]
  },
  {
   "cell_type": "code",
   "execution_count": 136,
   "id": "636b9822",
   "metadata": {},
   "outputs": [],
   "source": [
    "tahmindizisi = model.predict(x_test)"
   ]
  },
  {
   "cell_type": "code",
   "execution_count": 137,
   "id": "3ab2e676",
   "metadata": {},
   "outputs": [
    {
     "data": {
      "text/plain": [
       "array([[21707.979],\n",
       "       [23047.12 ],\n",
       "       [25448.475],\n",
       "       ...,\n",
       "       [26777.014],\n",
       "       [12228.029],\n",
       "       [25019.342]], dtype=float32)"
      ]
     },
     "execution_count": 137,
     "metadata": {},
     "output_type": "execute_result"
    }
   ],
   "source": [
    "tahmindizisi"
   ]
  },
  {
   "cell_type": "code",
   "execution_count": 138,
   "id": "c6e027d2",
   "metadata": {},
   "outputs": [
    {
     "data": {
      "text/plain": [
       "3240.487532226312"
      ]
     },
     "execution_count": 138,
     "metadata": {},
     "output_type": "execute_result"
    }
   ],
   "source": [
    "mean_absolute_error(y_test,tahmindizisi)"
   ]
  },
  {
   "cell_type": "code",
   "execution_count": 139,
   "id": "83c11426",
   "metadata": {},
   "outputs": [
    {
     "data": {
      "text/html": [
       "<div>\n",
       "<style scoped>\n",
       "    .dataframe tbody tr th:only-of-type {\n",
       "        vertical-align: middle;\n",
       "    }\n",
       "\n",
       "    .dataframe tbody tr th {\n",
       "        vertical-align: top;\n",
       "    }\n",
       "\n",
       "    .dataframe thead th {\n",
       "        text-align: right;\n",
       "    }\n",
       "</style>\n",
       "<table border=\"1\" class=\"dataframe\">\n",
       "  <thead>\n",
       "    <tr style=\"text-align: right;\">\n",
       "      <th></th>\n",
       "      <th>year</th>\n",
       "      <th>price</th>\n",
       "      <th>mileage</th>\n",
       "      <th>tax</th>\n",
       "      <th>mpg</th>\n",
       "      <th>engineSize</th>\n",
       "    </tr>\n",
       "  </thead>\n",
       "  <tbody>\n",
       "    <tr>\n",
       "      <th>count</th>\n",
       "      <td>12987.000000</td>\n",
       "      <td>12987.000000</td>\n",
       "      <td>12987.000000</td>\n",
       "      <td>12987.000000</td>\n",
       "      <td>12987.000000</td>\n",
       "      <td>12987.000000</td>\n",
       "    </tr>\n",
       "    <tr>\n",
       "      <th>mean</th>\n",
       "      <td>2017.285516</td>\n",
       "      <td>24074.855779</td>\n",
       "      <td>22133.367367</td>\n",
       "      <td>129.676215</td>\n",
       "      <td>55.438392</td>\n",
       "      <td>2.051059</td>\n",
       "    </tr>\n",
       "    <tr>\n",
       "      <th>std</th>\n",
       "      <td>2.189633</td>\n",
       "      <td>9866.601115</td>\n",
       "      <td>21197.472376</td>\n",
       "      <td>65.167429</td>\n",
       "      <td>15.025902</td>\n",
       "      <td>0.532313</td>\n",
       "    </tr>\n",
       "    <tr>\n",
       "      <th>min</th>\n",
       "      <td>1997.000000</td>\n",
       "      <td>650.000000</td>\n",
       "      <td>1.000000</td>\n",
       "      <td>0.000000</td>\n",
       "      <td>1.100000</td>\n",
       "      <td>0.000000</td>\n",
       "    </tr>\n",
       "    <tr>\n",
       "      <th>25%</th>\n",
       "      <td>2016.000000</td>\n",
       "      <td>17355.000000</td>\n",
       "      <td>6320.000000</td>\n",
       "      <td>125.000000</td>\n",
       "      <td>45.600000</td>\n",
       "      <td>1.700000</td>\n",
       "    </tr>\n",
       "    <tr>\n",
       "      <th>50%</th>\n",
       "      <td>2018.000000</td>\n",
       "      <td>22299.000000</td>\n",
       "      <td>15371.000000</td>\n",
       "      <td>145.000000</td>\n",
       "      <td>56.500000</td>\n",
       "      <td>2.000000</td>\n",
       "    </tr>\n",
       "    <tr>\n",
       "      <th>75%</th>\n",
       "      <td>2019.000000</td>\n",
       "      <td>28706.000000</td>\n",
       "      <td>31986.500000</td>\n",
       "      <td>145.000000</td>\n",
       "      <td>64.200000</td>\n",
       "      <td>2.100000</td>\n",
       "    </tr>\n",
       "    <tr>\n",
       "      <th>max</th>\n",
       "      <td>2020.000000</td>\n",
       "      <td>65990.000000</td>\n",
       "      <td>259000.000000</td>\n",
       "      <td>580.000000</td>\n",
       "      <td>217.300000</td>\n",
       "      <td>6.200000</td>\n",
       "    </tr>\n",
       "  </tbody>\n",
       "</table>\n",
       "</div>"
      ],
      "text/plain": [
       "               year         price        mileage           tax           mpg  \\\n",
       "count  12987.000000  12987.000000   12987.000000  12987.000000  12987.000000   \n",
       "mean    2017.285516  24074.855779   22133.367367    129.676215     55.438392   \n",
       "std        2.189633   9866.601115   21197.472376     65.167429     15.025902   \n",
       "min     1997.000000    650.000000       1.000000      0.000000      1.100000   \n",
       "25%     2016.000000  17355.000000    6320.000000    125.000000     45.600000   \n",
       "50%     2018.000000  22299.000000   15371.000000    145.000000     56.500000   \n",
       "75%     2019.000000  28706.000000   31986.500000    145.000000     64.200000   \n",
       "max     2020.000000  65990.000000  259000.000000    580.000000    217.300000   \n",
       "\n",
       "         engineSize  \n",
       "count  12987.000000  \n",
       "mean       2.051059  \n",
       "std        0.532313  \n",
       "min        0.000000  \n",
       "25%        1.700000  \n",
       "50%        2.000000  \n",
       "75%        2.100000  \n",
       "max        6.200000  "
      ]
     },
     "execution_count": 139,
     "metadata": {},
     "output_type": "execute_result"
    }
   ],
   "source": [
    "dataFrame.describe()"
   ]
  },
  {
   "cell_type": "code",
   "execution_count": 142,
   "id": "dcab6dfd",
   "metadata": {},
   "outputs": [
    {
     "data": {
      "text/plain": [
       "[<matplotlib.lines.Line2D at 0x200465032b0>]"
      ]
     },
     "execution_count": 142,
     "metadata": {},
     "output_type": "execute_result"
    },
    {
     "data": {
      "image/png": "[encoded data removed]",
      "text/plain": [
       "<Figure size 432x288 with 1 Axes>"
      ]
     },
     "metadata": {
      "needs_background": "light"
     },
     "output_type": "display_data"
    }
   ],
   "source": [
    "plt.scatter(y_test,tahmindizisi)\n",
    "plt.plot(y_test,y_test,\"g-*\")"
   ]
  },
  {
   "cell_type": "code",
   "execution_count": 144,
   "id": "f47c4d2b",
   "metadata": {},
   "outputs": [
    {
     "data": {
      "text/plain": [
       "year           2020.0\n",
       "price         65980.0\n",
       "mileage        3999.0\n",
       "tax             145.0\n",
       "mpg              28.0\n",
       "engineSize        4.0\n",
       "Name: 3191, dtype: float64"
      ]
     },
     "execution_count": 144,
     "metadata": {},
     "output_type": "execute_result"
    }
   ],
   "source": [
    "dataFrame.iloc[2]"
   ]
  },
  {
   "cell_type": "code",
   "execution_count": 145,
   "id": "958f2b13",
   "metadata": {},
   "outputs": [],
   "source": [
    "yeniArabaSeries = dataFrame.drop(\"price\",axis=1).iloc[2]"
   ]
  },
  {
   "cell_type": "code",
   "execution_count": 146,
   "id": "391b5f83",
   "metadata": {},
   "outputs": [
    {
     "data": {
      "text/plain": [
       "pandas.core.series.Series"
      ]
     },
     "execution_count": 146,
     "metadata": {},
     "output_type": "execute_result"
    }
   ],
   "source": [
    "type(yeniArabaSeries)"
   ]
  },
  {
   "cell_type": "code",
   "execution_count": 148,
   "id": "907736b6",
   "metadata": {},
   "outputs": [],
   "source": [
    "yeniArabaSeries = scaler.transform(yeniArabaSeries.values.reshape(-1,5))"
   ]
  },
  {
   "cell_type": "code",
   "execution_count": 151,
   "id": "43d405c4",
   "metadata": {},
   "outputs": [
    {
     "data": {
      "text/plain": [
       "array([[62979.56]], dtype=float32)"
      ]
     },
     "execution_count": 151,
     "metadata": {},
     "output_type": "execute_result"
    }
   ],
   "source": [
    "model.predict(yeniArabaSeries)"
   ]
  },
  {
   "cell_type": "code",
   "execution_count": null,
   "id": "27ee23fa",
   "metadata": {},
   "outputs": [],
   "source": []
  }
 ],
 "metadata": {
  "kernelspec": {
   "display_name": "Python 3",
   "language": "python",
   "name": "python3"
  },
  "language_info": {
   "codemirror_mode": {
    "name": "ipython",
    "version": 3
   },
   "file_extension": ".py",
   "mimetype": "text/x-python",
   "name": "python",
   "nbconvert_exporter": "python",
   "pygments_lexer": "ipython3",
   "version": "3.8.8"
  }
 },
 "nbformat": 4,
 "nbformat_minor": 5
}
